{
 "cells": [
  {
   "cell_type": "markdown",
   "id": "5e0fd28c",
   "metadata": {},
   "source": [
    "# Prediction of Nighttime NO2"
   ]
  },
  {
   "cell_type": "markdown",
   "id": "91b01399",
   "metadata": {},
   "source": [
    "## Background"
   ]
  },
  {
   "cell_type": "markdown",
   "id": "e260b76d",
   "metadata": {},
   "source": [
    "### Names and Acronyms\n",
    "1) ASDC: [Atmosperhic Science Data Center](https://asdc.larc.nasa.gov/about)\n",
    "1) PGN (Pandora): [Pandonia Global Network](https://www.pandonia-global-network.org/) / [Pandora](https://pandora.gsfc.nasa.gov/About/)\n",
    "    - **NOTE**: NASA's portion of the PGN is known as Pandora.  Within the scope of this notebook, Pandora and PGN may be used interchangably as this project will only use NASAs PGN site data.\n",
    "1) TEMPO: [Troposoperic Emissions: Monitoring of Pollution](https://science.nasa.gov/mission/tempo/)"
   ]
  },
  {
   "cell_type": "markdown",
   "id": "9fb4999c",
   "metadata": {},
   "source": [
    "### Resources\n",
    "1) ASDC Data Processing Tool (Version 1)\n",
    "    - This notebook was published by the ASDC and provides examples of how to correctly load and use Pandora and TEMPO data.\n",
    "    - https://github.com/nasa/ASDC_Data_and_User_Services/blob/main/TEMPO/additional_drafts/ASDC_Data_Processing_ML_v1.2.ipynb\n",
    "1) PGN Station Map\n",
    "    - A map showing the location of all PGN groundsites.\n",
    "    - https://blickm.hetzner.pandonia-global-network.org/livemaps/pgn_stationsmap.png\n"
   ]
  },
  {
   "cell_type": "markdown",
   "id": "202c7064",
   "metadata": {},
   "source": [
    "This notebook borrows heavily from and extens the functionality of the NASA, ASDC Data and User Servicies notebook found here:\n",
    "\n",
    "https://github.com/nasa/ASDC_Data_and_User_Services/blob/main/TEMPO/additional_drafts/ASDC_Data_Processing_ML_v1.2.ipynb\n",
    "\n",
    "This notebook intends to test the hypothesis that a model can be built with Pandora which can predict nightitme NO<sub>2</sub> and that that model can be applied to TEMPO daytime measurments to predict NO<sub>2</sub> for any location covered by TEMPO.\n",
    "\n"
   ]
  },
  {
   "cell_type": "markdown",
   "id": "f4f7cdc1",
   "metadata": {
    "vscode": {
     "languageId": "plaintext"
    }
   },
   "source": [
    "## 1. Environment Setup"
   ]
  },
  {
   "cell_type": "markdown",
   "id": "ccc1657c",
   "metadata": {},
   "source": [
    "### Environment Setup\n",
    "There are many tools available such as [poetry](https://www.google.com/url?sa=t&source=web&rct=j&opi=89978449&url=https://python-poetry.org/&ved=2ahUKEwjr9aLgna6QAxX5EVkFHVsNBMUQFnoECBsQAQ&usg=AOvVaw3Jp8q7OO7XkcY8Tq4tDe30) and [uv](https://www.google.com/url?sa=t&source=web&rct=j&opi=89978449&url=https://docs.astral.sh/uv/&ved=2ahUKEwiP9aXVna6QAxVyF1kFHeyTNGYQFnoECAsQAQ&usg=AOvVaw2VJVt0jrah2S9tIgdc1yRc) that simplify and speed up environment setup.  For simplicity, this guide only covers the method built into the python standard library.\n",
    "1) Install [Python 3.11](https://www.python.org/downloads/) (or higher)\n",
    "1) (Recomended) Create a virtual environment (learn more [here](https://docs.python.org/3/library/venv.html))\n",
    "1) Install the required packages using the following command.<br>`% pip install pyproject.toml`\n",
    "1) Select the newly created kernal in your notebook.\n",
    "    - NOTE: this varies slightly between notebook tools, but in almost all tools you will be prompted to select a kernal upon running a cell."
   ]
  },
  {
   "cell_type": "markdown",
   "id": "ab1c5de3",
   "metadata": {},
   "source": [
    "### Import required modules"
   ]
  },
  {
   "cell_type": "markdown",
   "id": "66f73804",
   "metadata": {},
   "source": [
    "Common imports that are used throughout.  Other packages will be imported as needed."
   ]
  },
  {
   "cell_type": "code",
   "execution_count": 177,
   "id": "79c24beb",
   "metadata": {},
   "outputs": [],
   "source": [
    "from datetime import datetime\n",
    "from pathlib import Path\n",
    "\n",
    "import numpy as np\n",
    "import pandas as pd"
   ]
  },
  {
   "cell_type": "markdown",
   "id": "571cbfbc",
   "metadata": {},
   "source": [
    "### Data Access\n",
    "In order to access data, you will need an Earthdata Login account.  If you do not have an Earthdata Login account, you can create one here:<br>\n",
    "https://urs.earthdata.nasa.gov/\n",
    "\n",
    "The earthaccess module allows you to authenticate.  Multilple login options exist for providing your credentials, you can read more on options here:<br>\n",
    "https://pypi.org/project/earthaccess/<br>\n",
    "By unless another option is configured, you will be prompted by your notebook to enter your credentials."
   ]
  },
  {
   "cell_type": "code",
   "execution_count": 178,
   "id": "a082e562",
   "metadata": {},
   "outputs": [
    {
     "data": {
      "text/plain": [
       "<earthaccess.auth.Auth at 0x24545f6e6d0>"
      ]
     },
     "execution_count": 178,
     "metadata": {},
     "output_type": "execute_result"
    }
   ],
   "source": [
    "import earthaccess\n",
    "\n",
    "\n",
    "earthaccess.login()"
   ]
  },
  {
   "cell_type": "markdown",
   "id": "86fa5d17",
   "metadata": {},
   "source": [
    "Notebook Settings"
   ]
  },
  {
   "cell_type": "code",
   "execution_count": 179,
   "id": "ae862668",
   "metadata": {},
   "outputs": [],
   "source": [
    "PGN_DATA_DIR = Path('pgn-data')\n",
    "PGN_DATA_DIR.mkdir(mode=0o777, parents=True, exist_ok=True)\n",
    "PGN_DATA_PATH = PGN_DATA_DIR.joinpath('pgn-data.csv')\n",
    "TEMPO_DATA_DIR = Path('tempo-data')\n",
    "TEMPO_DATA_DIR.mkdir(mode=0o777, parents=True, exist_ok=True)\n",
    "TEMPO_DATA_PATH = TEMPO_DATA_DIR.joinpath('tempo-data.csv')"
   ]
  },
  {
   "cell_type": "markdown",
   "id": "a9d02eaa",
   "metadata": {},
   "source": [
    "## 1. Data Prepairation"
   ]
  },
  {
   "cell_type": "markdown",
   "id": "114510e5",
   "metadata": {},
   "source": [
    "### 1.1. Download Data"
   ]
  },
  {
   "cell_type": "markdown",
   "id": "b8039889",
   "metadata": {},
   "source": [
    "**Data Ingest Workflow**\n",
    "1) Collect the URLs for relivant files.\n",
    "1) If not already downloaded, download the files.\n",
    "1) If not already parsed, parse the files and save them as dataframes.\n",
    "1) Return a list of relivant file paths\n",
    "\n",
    "**Notes**\n",
    "- PGN and TEMPO files are saved to the PGN_DATA_DIR and TEMPO_DATA_DIR directories.\n",
    "- This system allows new files to be added while old files are still used, when available.\n",
    "- TEMPO files are VERY large, a full year of data for 3 PGN sites takes up 100GB of hard drive space.\n",
    "- Running for a shorter time period does not delete data, it only uses a smaller subset of files ensuring that short time frames can be used for testing.\n",
    "- Though VERY slow to run initially, subsiquent runs for the same or smaller data subsets are fairly fast."
   ]
  },
  {
   "cell_type": "markdown",
   "id": "c4e3f556",
   "metadata": {},
   "source": [
    "#### 1.1.1. Define Download Settings"
   ]
  },
  {
   "cell_type": "code",
   "execution_count": 180,
   "id": "e13d742a",
   "metadata": {},
   "outputs": [],
   "source": [
    "start_date = datetime(2024, 7, 1)\n",
    "end_date = datetime(2024, 7, 7)"
   ]
  },
  {
   "cell_type": "markdown",
   "id": "9640f721",
   "metadata": {},
   "source": [
    "#### 1.1.1. Download Pandora data"
   ]
  },
  {
   "cell_type": "markdown",
   "id": "6dddd672",
   "metadata": {},
   "source": [
    "Pandora settings"
   ]
  },
  {
   "cell_type": "code",
   "execution_count": 181,
   "id": "d07c6a16",
   "metadata": {},
   "outputs": [],
   "source": [
    "pgn_formats = [\n",
    "    # daytime file format\n",
    "    {\n",
    "        'cycle': 'Day',\n",
    "        'suffix': 'rnvh3p1-8.txt',\n",
    "        'no2_quality_flag_index': 52,\n",
    "        'valid_quality_flags': [0, 10],\n",
    "        'column_index': 61,\n",
    "        'column_unc_index': 62,\n",
    "    },\n",
    "    # nighttime file format\n",
    "    {\n",
    "        'cycle': 'Night',\n",
    "        'suffix': 'rnvm2p1_8.txt',\n",
    "        'no2_quality_flag_index': 35,\n",
    "        'valid_quality_flags': [0, 1, 10, 11],\n",
    "        'column_index': 38,\n",
    "        'column_unc_index': 39,\n",
    "    },\n",
    "]\n",
    "\n",
    "sites = ['BronxNY', 'BuffaloNY', 'QueensNY']\n",
    "sites_url = \"https://data.pandonia-global-network.org\""
   ]
  },
  {
   "cell_type": "markdown",
   "id": "648d329d",
   "metadata": {},
   "source": [
    "Get relivant PGN files.  Site data files can be found manually here: https://data.pandonia-global-network.org/"
   ]
  },
  {
   "cell_type": "code",
   "execution_count": 182,
   "id": "f56e73bd",
   "metadata": {},
   "outputs": [
    {
     "name": "stdout",
     "output_type": "stream",
     "text": [
      "Getting File URLs\n",
      "Site 1 of 3: BronxNY\n",
      "\tInstrument 1 of 2: Pandora147s1\n",
      "\tInstrument 2 of 2: Pandora180s1\n",
      "Site 2 of 3: BuffaloNY\n",
      "\tInstrument 1 of 1: Pandora206s1\n",
      "Site 3 of 3: QueensNY\n",
      "\tInstrument 1 of 1: Pandora55s1\n",
      "File URLs:\n",
      "\thttps://data.pandonia-global-network.org/BronxNY/Pandora147s1/L2/Pandora147s1_BronxNY_L2_rnvh3p1-8.txt\n",
      "\thttps://data.pandonia-global-network.org/BronxNY/Pandora147s1/L2/Pandora147s1_BronxNY_L2_rnvm2p1_8.txt\n",
      "\thttps://data.pandonia-global-network.org/BronxNY/Pandora180s1/L2/Pandora180s1_BronxNY_L2_rnvh3p1-8.txt\n",
      "\thttps://data.pandonia-global-network.org/BronxNY/Pandora180s1/L2/Pandora180s1_BronxNY_L2_rnvm2p1_8.txt\n",
      "\thttps://data.pandonia-global-network.org/BuffaloNY/Pandora206s1/L2/Pandora206s1_BuffaloNY_L2_rnvh3p1-8.txt\n",
      "\thttps://data.pandonia-global-network.org/BuffaloNY/Pandora206s1/L2/Pandora206s1_BuffaloNY_L2_rnvm2p1_8.txt\n",
      "\thttps://data.pandonia-global-network.org/QueensNY/Pandora55s1/L2/Pandora55s1_QueensNY_L2_rnvh3p1-8.txt\n",
      "\thttps://data.pandonia-global-network.org/QueensNY/Pandora55s1/L2/Pandora55s1_QueensNY_L2_rnvm2p1_8.txt\n"
     ]
    }
   ],
   "source": [
    "import requests\n",
    "\n",
    "\n",
    "def get_page_links(url: str):\n",
    "    \"\"\"\n",
    "    An tool for getting all PGN links from a PGN data webpage (https://data.hetzner.pandonia-global-network.org/)\n",
    "\n",
    "    ARGS:\n",
    "        url (str): The URL of the page to extract links form\n",
    "    \"\"\"\n",
    "    things_to_remove = [\n",
    "        '<span class=\"name\">',\n",
    "        '</span>',\n",
    "        '/</span>'\n",
    "    ]\n",
    "\n",
    "    response = requests.get(url)\n",
    "    assert response.status_code==200, f\"Download failed with code {response.status_code}\"\n",
    "    \n",
    "    # get item name lines\n",
    "    names = [l.strip() for l in response.text.splitlines()]\n",
    "    names = [l for l in names if l.startswith('<span class=\"name\">')]\n",
    "\n",
    "    # get item names from name lines\n",
    "    for thing_to_remove in things_to_remove:\n",
    "        names = [l.replace(thing_to_remove, '') for l in names]\n",
    "        names = [l.rstrip('/') for l in names]\n",
    "\n",
    "    return names\n",
    "\n",
    "\n",
    "# get file URLs\n",
    "print(\"Getting File URLs\")\n",
    "pgn_urls: list[str] = []\n",
    "for i, site in enumerate(sites):\n",
    "    site_url = f\"{sites_url}/{site}\"\n",
    "    instruments = get_page_links(site_url)\n",
    "    print(f\"Site {i+1} of {len(sites)}:\", site)\n",
    "    for j, instrument in enumerate(instruments):\n",
    "        print(f\"\\tInstrument {j+1} of {len(instruments)}:\", instrument)\n",
    "        for format in pgn_formats:\n",
    "            file_url = f\"{site_url}/{instrument}/L2/{instrument}_{site}_L2_{format['suffix']}\"\n",
    "            pgn_urls.append(file_url)\n",
    "\n",
    "print(\"File URLs:\")\n",
    "for pgn_url in pgn_urls:\n",
    "    print(f\"\\t{pgn_url}\")"
   ]
  },
  {
   "cell_type": "markdown",
   "id": "330c3a58",
   "metadata": {},
   "source": [
    "Download files (if needed)"
   ]
  },
  {
   "cell_type": "code",
   "execution_count": 183,
   "id": "bf4dc28b",
   "metadata": {},
   "outputs": [
    {
     "name": "stdout",
     "output_type": "stream",
     "text": [
      "Downloading pgn files to pgn-data\n",
      "\tDownloading file 1 of 8: Pandora147s1_BronxNY_L2_rnvh3p1-8.txt\n",
      "\tDownloading file 2 of 8: Pandora147s1_BronxNY_L2_rnvm2p1_8.txt\n",
      "\tDownloading file 3 of 8: Pandora180s1_BronxNY_L2_rnvh3p1-8.txt\n",
      "\tDownloading file 4 of 8: Pandora180s1_BronxNY_L2_rnvm2p1_8.txt\n",
      "File 5 of 8 exists and will not be downloaded: Pandora206s1_BuffaloNY_L2_rnvh3p1-8.txt\n",
      "\tDownloading file 6 of 8: Pandora206s1_BuffaloNY_L2_rnvm2p1_8.txt\n",
      "File 7 of 8 exists and will not be downloaded: Pandora55s1_QueensNY_L2_rnvh3p1-8.txt\n",
      "\tDownloading file 8 of 8: Pandora55s1_QueensNY_L2_rnvm2p1_8.txt\n",
      "Files downloaded\n"
     ]
    }
   ],
   "source": [
    "# Download Files\n",
    "pgn_files: list[Path] = []\n",
    "print(f\"Downloading pgn files to {PGN_DATA_DIR}\")\n",
    "for i, pgn_url in enumerate(pgn_urls):\n",
    "    file_name = Path(pgn_url).name\n",
    "    file_path = PGN_DATA_DIR.joinpath(file_name)\n",
    "    if file_path.exists():\n",
    "        print(f\"File {i+1} of {len(pgn_urls)} exists and will not be downloaded: {file_name}\")\n",
    "    else:\n",
    "        print(f\"\\tDownloading file {i+1} of {len(pgn_urls)}: {file_name}\")\n",
    "        response = requests.get(pgn_url)\n",
    "        file_path.write_bytes(response.content)\n",
    "    pgn_files.append(file_path)\n",
    "print(\"Files downloaded\")"
   ]
  },
  {
   "cell_type": "markdown",
   "id": "197323bc",
   "metadata": {},
   "source": [
    "An API must be used to download the nighttime files where they exist.  Not all sites are set up to take nighttime readings.\n",
    "\n",
    "You can read more about the API here:<br>\n",
    "https://api.hetzner.pandonia-global-network.org/docs#/v1%2Ffiles/location_v1_files__location__get"
   ]
  },
  {
   "cell_type": "code",
   "execution_count": 184,
   "id": "9fb68640",
   "metadata": {},
   "outputs": [
    {
     "data": {
      "text/plain": [
       "['https://api.ovh.pandonia-global-network.org/v1/download/bulk_l2/official?start_datetime=2024-07-01&end_datetime=2024-07-07&pan_id=206&spectrometer=1&location=BuffaloNY&code=rnvh3&blickp_version=p1-8',\n",
       " 'https://api.ovh.pandonia-global-network.org/v1/download/bulk_l2/official?start_datetime=2024-07-01&end_datetime=2024-07-07&pan_id=55&spectrometer=1&location=QueensNY&code=rnvh3&blickp_version=p1-8']"
      ]
     },
     "execution_count": 184,
     "metadata": {},
     "output_type": "execute_result"
    }
   ],
   "source": [
    "BASE_URL = \"https://api.ovh.pandonia-global-network.org/v1/files\"\n",
    "headers = {\"X-API-Key\": \"kWKkafU6BfyO9vGQbso_o-LZYOZTL6IOaFLtdj8dIpQ\"}  # Add your API key here\n",
    "\n",
    "nighttime_urls: list[str] = []\n",
    "for site in sites:\n",
    "    instruments = requests.get(f\"{BASE_URL}/{site}\",  headers=headers).json()\n",
    "    for instrument in instruments:\n",
    "        instrument_id = instrument['pan_id']\n",
    "        for spectrometer in [1, 2]:\n",
    "            for code in ['rnvm2', 'rnvh3']:\n",
    "                url = (\n",
    "                    'https://api.ovh.pandonia-global-network.org/v1/download/bulk_l2/official?'\n",
    "                    f'start_datetime={start_date.date()}&'\n",
    "                    f'end_datetime={end_date.date()}&'\n",
    "                    f'pan_id={instrument_id}&'\n",
    "                    f'spectrometer={spectrometer}&'\n",
    "                    f'location={site}&'\n",
    "                    f'code={code}&blickp_version=p1-8'\n",
    "                )\n",
    "                response = requests.get(url, headers=headers).content.decode('utf-8')\n",
    "                if response.startswith('File name:'):\n",
    "                    nighttime_urls.append(url)\n",
    "nighttime_urls"
   ]
  },
  {
   "cell_type": "markdown",
   "id": "e4c9bc23",
   "metadata": {},
   "source": [
    "Download files"
   ]
  },
  {
   "cell_type": "code",
   "execution_count": 185,
   "id": "7710a993",
   "metadata": {},
   "outputs": [
    {
     "name": "stdout",
     "output_type": "stream",
     "text": [
      "Processing https://api.ovh.pandonia-global-network.org/v1/download/bulk_l2/official?start_datetime=2024-07-01&end_datetime=2024-07-07&pan_id=206&spectrometer=1&location=BuffaloNY&code=rnvh3&blickp_version=p1-8\n",
      "Saved to pgn-data\\Pandora206s1_BuffaloNY_L2_rnvh3p1-8.txt\n",
      "Processing https://api.ovh.pandonia-global-network.org/v1/download/bulk_l2/official?start_datetime=2024-07-01&end_datetime=2024-07-07&pan_id=55&spectrometer=1&location=QueensNY&code=rnvh3&blickp_version=p1-8\n",
      "Saved to pgn-data\\Pandora55s1_QueensNY_L2_rnvh3p1-8.txt\n"
     ]
    }
   ],
   "source": [
    "for url in nighttime_urls:\n",
    "    print(\"Processing\", url)\n",
    "    data = requests.get(url, headers=headers).content.decode('utf-8')\n",
    "    first_line = data.split('\\n', 1)[0]\n",
    "    file_name = first_line.split(': ')[-1]\n",
    "    # remove random code from end of file name\n",
    "    file_name = \"_\".join(file_name.split('_')[:-1])+'.txt'\n",
    "    file_path = PGN_DATA_DIR.joinpath(file_name)\n",
    "    file_path.write_text(data)\n",
    "    print(\"Saved to\", file_path)"
   ]
  },
  {
   "cell_type": "markdown",
   "id": "570190e9",
   "metadata": {},
   "source": [
    "Parse files into CSV format (if needed)"
   ]
  },
  {
   "cell_type": "code",
   "execution_count": 188,
   "id": "00a5d840",
   "metadata": {},
   "outputs": [
    {
     "name": "stdout",
     "output_type": "stream",
     "text": [
      "Parsing PGN data started\n",
      "\tValid Observations: 0\n"
     ]
    },
    {
     "ename": "ValueError",
     "evalue": "not enough values to unpack (expected 3, got 1)",
     "output_type": "error",
     "traceback": [
      "\u001b[31m---------------------------------------------------------------------------\u001b[39m",
      "\u001b[31mValueError\u001b[39m                                Traceback (most recent call last)",
      "\u001b[36mCell\u001b[39m\u001b[36m \u001b[39m\u001b[32mIn[188]\u001b[39m\u001b[32m, line 20\u001b[39m\n\u001b[32m     17\u001b[39m \u001b[38;5;28;01mfor\u001b[39;00m i, pgn_path \u001b[38;5;129;01min\u001b[39;00m \u001b[38;5;28menumerate\u001b[39m(pgn_files):\n\u001b[32m     18\u001b[39m     \u001b[38;5;66;03m# get file sections as lines\u001b[39;00m\n\u001b[32m     19\u001b[39m     text = pgn_path.read_text()\n\u001b[32m---> \u001b[39m\u001b[32m20\u001b[39m     metadata_text, column_text, data_text = text.split(pgn_section_delim)\n\u001b[32m     21\u001b[39m     metadata_lines = metadata_text.splitlines()\n\u001b[32m     22\u001b[39m     data_lines = data_text.splitlines()\n",
      "\u001b[31mValueError\u001b[39m: not enough values to unpack (expected 3, got 1)"
     ]
    }
   ],
   "source": [
    "# PGN format settings (these should not change)\n",
    "pgn_section_delim = f\"{'-'*87}\\n\"\n",
    "header_delim = \": \"\n",
    "pgn_loc_key = \"Short location name\"\n",
    "pgn_lat_key = \"Location latitude [deg]\"\n",
    "pgn_lon_key = \"Location longitude [deg]\"\n",
    "# Avogadro constant divided by 10000\n",
    "no2_scale = 6.02214076E+19\n",
    "\n",
    "sites = []\n",
    "lats = []\n",
    "lons = []\n",
    "PGN_PATHS = []\n",
    "\n",
    "# build the final dataset\n",
    "print(\"Parsing PGN data started\")\n",
    "for i, pgn_path in enumerate(pgn_files):\n",
    "    # get file sections as lines\n",
    "    text = pgn_path.read_text()\n",
    "    metadata_text, column_text, data_text = text.split(pgn_section_delim)\n",
    "    metadata_lines = metadata_text.splitlines()\n",
    "    data_lines = data_text.splitlines()\n",
    "\n",
    "    # get metadata\n",
    "    metadata = {}\n",
    "    for line in metadata_lines:\n",
    "        key, value = line.split(header_delim)\n",
    "        metadata[key] = value\n",
    "    \n",
    "    site_lat = float(metadata[pgn_lat_key])\n",
    "    site_lon = float(metadata[pgn_lon_key])\n",
    "\n",
    "    sites.append(pgn_path.name.split('_')[1])\n",
    "    lats.append(site_lat)\n",
    "    lons.append(site_lon)\n",
    "\n",
    "    # if data already exists as CSV, skip parsing\n",
    "    csv_path = pgn_path.with_suffix('.csv')\n",
    "    if csv_path.exists():\n",
    "        PGN_PATHS.append(csv_path)\n",
    "        continue\n",
    "\n",
    "    # get data\n",
    "    rows = []\n",
    "    for line in data_lines:\n",
    "        values = line.split()\n",
    "        # convert timestamps\n",
    "        timestamp = datetime.fromisoformat(values[0]).replace(tzinfo=None)\n",
    "\n",
    "        # filtering low quality records\n",
    "        if int(values[no2_quality_flag_index]) not in valid_quality_flags:\n",
    "            continue\n",
    "\n",
    "        row = {\n",
    "            'Time': timestamp,\n",
    "            'Latitude': site_lat,\n",
    "            'Longitude': site_lon,\n",
    "            'Column': float(values[61])*no2_scale,\n",
    "            'Uncertainty': float(values[62])*no2_scale,\n",
    "            'Site': metadata[pgn_loc_key],\n",
    "        }\n",
    "        rows.append(row)\n",
    "\n",
    "    # convert rows into a dataframe\n",
    "    if rows:\n",
    "        df = pd.DataFrame(rows)\n",
    "        df.to_csv(csv_path, index=False)\n",
    "        PGN_PATHS.append(csv_path)\n",
    "    print(f\"\\tValid Observations: {len(rows)}\")\n",
    "\n",
    "# create site metadata dataframe\n",
    "sites_df = pd.DataFrame({\n",
    "    'Site': sites,\n",
    "    'Latitude': lats,\n",
    "    'Longitude': lons\n",
    "}).set_index('Site')\n",
    "\n",
    "print(\"Parsing\", len(PGN_PATHS), \"PGN files\")\n",
    "sites_df\n"
   ]
  },
  {
   "cell_type": "markdown",
   "id": "dfcfaa0d",
   "metadata": {},
   "source": [
    "Get latitudes and longitudes (for use with TEMPO download)"
   ]
  },
  {
   "cell_type": "markdown",
   "id": "4ef878a3",
   "metadata": {},
   "source": [
    "#### 1.1.1 Download TEMPO Data"
   ]
  },
  {
   "cell_type": "markdown",
   "id": "a5bd82c0",
   "metadata": {},
   "source": [
    "Get relivant TEMPO files."
   ]
  },
  {
   "cell_type": "code",
   "execution_count": null,
   "id": "bf5a83af",
   "metadata": {},
   "outputs": [
    {
     "name": "stdout",
     "output_type": "stream",
     "text": [
      "Found 320 data collections containing the sites.\n"
     ]
    }
   ],
   "source": [
    "short_name = 'TEMPO_NO2_L2' # collection name to search for in the EarthData\n",
    "out_Q = 'NO2_trop_col_day'\n",
    "version = 'V03'\n",
    "\n",
    "cloud_files = []\n",
    "for site, site_lat, site_lon in sites_df.itertuples():\n",
    "    cloud_files += earthaccess.search_data(\n",
    "        short_name = short_name,\n",
    "        version = version,\n",
    "        temporal = (start_date, end_date),\n",
    "        point = (site_lon, site_lat)\n",
    "    )\n",
    "\n",
    "print(\"Found\", len(cloud_files), \"data collections containing the sites.\")"
   ]
  },
  {
   "cell_type": "markdown",
   "id": "9591921e",
   "metadata": {},
   "source": [
    "Download files (if needed)"
   ]
  },
  {
   "cell_type": "code",
   "execution_count": null,
   "id": "550b9fb3",
   "metadata": {},
   "outputs": [
    {
     "name": "stdout",
     "output_type": "stream",
     "text": [
      "Downloaded 320 files.\n"
     ]
    }
   ],
   "source": [
    "import warnings\n",
    "\n",
    "# this error comes from netCDF4 and is only a warning and can be ignored\n",
    "warnings.filterwarnings(\n",
    "    \"ignore\",\n",
    "    message=\"__array__ implementation doesn't accept a copy keyword\",\n",
    "    category=DeprecationWarning,\n",
    ")\n",
    "\n",
    "nc_paths: list[Path] = []\n",
    "for i, cloud_file in enumerate(cloud_files):\n",
    "    # download files if a file with the same name is not found in the download directory\n",
    "    paths = earthaccess.download(cloud_file, local_path=TEMPO_DATA_DIR, show_progress=False)\n",
    "    nc_paths += paths\n",
    "\n",
    "print(\"Downloaded\", len(nc_paths), \"files.\")"
   ]
  },
  {
   "cell_type": "markdown",
   "id": "60e0250a",
   "metadata": {},
   "source": [
    "Parse TEMPO files into CSV format (if needed)"
   ]
  },
  {
   "cell_type": "code",
   "execution_count": null,
   "id": "09ed4eb8",
   "metadata": {},
   "outputs": [
    {
     "name": "stdout",
     "output_type": "stream",
     "text": [
      "Parsed 320 files.\n"
     ]
    }
   ],
   "source": [
    "import netCDF4 as nc\n",
    "\n",
    "# only keep measurments within offset of a site\n",
    "offset = 0.1\n",
    "\n",
    "TEMPO_FILES = []\n",
    "col_names = ['Time', 'Latitude', 'Longitude', 'Column', 'Uncertainty', 'Site', 'System']\n",
    "\n",
    "for path in nc_paths:\n",
    "    csv_path = path.with_suffix('.csv')\n",
    "    # skip if file already exists\n",
    "    if csv_path.exists():\n",
    "        TEMPO_FILES.append(csv_path)\n",
    "        continue\n",
    "\n",
    "    file_time = datetime.fromisoformat(path.name.split('_')[4]).replace(tzinfo=None)\n",
    "    with nc.Dataset(path) as ds:\n",
    "        geolocation = ds['geolocation']\n",
    "        product = ds['product']\n",
    "        col_var = product['vertical_column_troposphere']\n",
    "        unc_var = product['vertical_column_troposphere_uncertainty']\n",
    "\n",
    "        col_fil = col_var.getncattr('_FillValue')\n",
    "        unc_fil = unc_var.getncattr('_FillValue')\n",
    "\n",
    "        lats = np.array(geolocation['latitude']).flatten()\n",
    "        lons = np.array(geolocation['longitude']).flatten()\n",
    "        cols = np.array(col_var).flatten()\n",
    "        uncs = np.array(unc_var).flatten()\n",
    "\n",
    "    num_records = len(lats)\n",
    "    times = np.full((num_records), fill_value=file_time)\n",
    "    sites = np.full((num_records), fill_value=np.nan)\n",
    "    systems = np.full((num_records), fill_value='TEMPO')\n",
    "\n",
    "    data = {\n",
    "        'Time': times,\n",
    "        'Latitude': lats,\n",
    "        'Longitude': lons,\n",
    "        'Column': cols,\n",
    "        'Uncertainty': uncs,\n",
    "    }\n",
    "    df = pd.DataFrame(data)\n",
    "\n",
    "    df.to_csv(csv_path, index=False)\n",
    "    TEMPO_FILES.append(csv_path)\n",
    "\n",
    "print(\"Parsed\", len(TEMPO_FILES), \"files.\")"
   ]
  },
  {
   "cell_type": "markdown",
   "id": "20d18455",
   "metadata": {},
   "source": [
    "PGN_FILES and TEMPO_FILES have been populdated with analysis ready data."
   ]
  },
  {
   "cell_type": "markdown",
   "id": "32408bb7",
   "metadata": {},
   "source": [
    "### 1.2. Explore Data"
   ]
  },
  {
   "cell_type": "markdown",
   "id": "0763ee77",
   "metadata": {},
   "source": [
    "After download, analysis ready data must be loaded from CSVs into TEMPO and PGN data dataframs.  Once in dataframes, data can be explored, cleaned, and transformed to ready it for modeling."
   ]
  },
  {
   "cell_type": "markdown",
   "id": "0ca74b7a",
   "metadata": {},
   "source": [
    "#### 1.2.1 Load Pandora"
   ]
  },
  {
   "cell_type": "markdown",
   "id": "0eda5bf9",
   "metadata": {},
   "source": [
    "Load Pandora Data"
   ]
  },
  {
   "cell_type": "code",
   "execution_count": null,
   "id": "c26ea48f",
   "metadata": {},
   "outputs": [
    {
     "name": "stdout",
     "output_type": "stream",
     "text": [
      "PGN Data Shape: (42626, 6)\n"
     ]
    },
    {
     "data": {
      "text/html": [
       "<div>\n",
       "<style scoped>\n",
       "    .dataframe tbody tr th:only-of-type {\n",
       "        vertical-align: middle;\n",
       "    }\n",
       "\n",
       "    .dataframe tbody tr th {\n",
       "        vertical-align: top;\n",
       "    }\n",
       "\n",
       "    .dataframe thead th {\n",
       "        text-align: right;\n",
       "    }\n",
       "</style>\n",
       "<table border=\"1\" class=\"dataframe\">\n",
       "  <thead>\n",
       "    <tr style=\"text-align: right;\">\n",
       "      <th></th>\n",
       "      <th>Time</th>\n",
       "      <th>Latitude</th>\n",
       "      <th>Longitude</th>\n",
       "      <th>Column</th>\n",
       "      <th>Uncertainty</th>\n",
       "      <th>Site</th>\n",
       "    </tr>\n",
       "  </thead>\n",
       "  <tbody>\n",
       "    <tr>\n",
       "      <th>0</th>\n",
       "      <td>2021-06-29 15:46:24.100</td>\n",
       "      <td>40.8679</td>\n",
       "      <td>-73.8781</td>\n",
       "      <td>1.005035e+16</td>\n",
       "      <td>1.096933e+14</td>\n",
       "      <td>BronxNY</td>\n",
       "    </tr>\n",
       "    <tr>\n",
       "      <th>1</th>\n",
       "      <td>2021-06-29 16:17:44.600</td>\n",
       "      <td>40.8679</td>\n",
       "      <td>-73.8781</td>\n",
       "      <td>1.198105e+16</td>\n",
       "      <td>1.146616e+14</td>\n",
       "      <td>BronxNY</td>\n",
       "    </tr>\n",
       "    <tr>\n",
       "      <th>2</th>\n",
       "      <td>2021-06-29 16:28:02.500</td>\n",
       "      <td>40.8679</td>\n",
       "      <td>-73.8781</td>\n",
       "      <td>1.059535e+16</td>\n",
       "      <td>1.080071e+14</td>\n",
       "      <td>BronxNY</td>\n",
       "    </tr>\n",
       "    <tr>\n",
       "      <th>3</th>\n",
       "      <td>2021-06-29 16:38:25.600</td>\n",
       "      <td>40.8679</td>\n",
       "      <td>-73.8781</td>\n",
       "      <td>7.392780e+15</td>\n",
       "      <td>9.193400e+13</td>\n",
       "      <td>BronxNY</td>\n",
       "    </tr>\n",
       "    <tr>\n",
       "      <th>4</th>\n",
       "      <td>2021-06-29 16:51:30.200</td>\n",
       "      <td>40.8679</td>\n",
       "      <td>-73.8781</td>\n",
       "      <td>7.399404e+15</td>\n",
       "      <td>9.154256e+13</td>\n",
       "      <td>BronxNY</td>\n",
       "    </tr>\n",
       "  </tbody>\n",
       "</table>\n",
       "</div>"
      ],
      "text/plain": [
       "                     Time  Latitude  Longitude        Column   Uncertainty  \\\n",
       "0 2021-06-29 15:46:24.100   40.8679   -73.8781  1.005035e+16  1.096933e+14   \n",
       "1 2021-06-29 16:17:44.600   40.8679   -73.8781  1.198105e+16  1.146616e+14   \n",
       "2 2021-06-29 16:28:02.500   40.8679   -73.8781  1.059535e+16  1.080071e+14   \n",
       "3 2021-06-29 16:38:25.600   40.8679   -73.8781  7.392780e+15  9.193400e+13   \n",
       "4 2021-06-29 16:51:30.200   40.8679   -73.8781  7.399404e+15  9.154256e+13   \n",
       "\n",
       "      Site  \n",
       "0  BronxNY  \n",
       "1  BronxNY  \n",
       "2  BronxNY  \n",
       "3  BronxNY  \n",
       "4  BronxNY  "
      ]
     },
     "execution_count": 39,
     "metadata": {},
     "output_type": "execute_result"
    }
   ],
   "source": [
    "pgn_df = pd.concat([pd.read_csv(p, parse_dates=['Time']) for p in PGN_PATHS], ignore_index=True)\n",
    "print(\"PGN Data Shape:\", pgn_df.shape)\n",
    "pgn_df.head()\n"
   ]
  },
  {
   "cell_type": "markdown",
   "id": "fa527154",
   "metadata": {},
   "source": [
    "#### Explore Data"
   ]
  },
  {
   "cell_type": "code",
   "execution_count": null,
   "id": "b452bb00",
   "metadata": {},
   "outputs": [
    {
     "name": "stdout",
     "output_type": "stream",
     "text": [
      "Start Time: 2020-08-12 15:19:31.900000\n",
      "End Time: 2025-10-22 19:32:29.700000\n"
     ]
    },
    {
     "data": {
      "text/html": [
       "<div>\n",
       "<style scoped>\n",
       "    .dataframe tbody tr th:only-of-type {\n",
       "        vertical-align: middle;\n",
       "    }\n",
       "\n",
       "    .dataframe tbody tr th {\n",
       "        vertical-align: top;\n",
       "    }\n",
       "\n",
       "    .dataframe thead th {\n",
       "        text-align: right;\n",
       "    }\n",
       "</style>\n",
       "<table border=\"1\" class=\"dataframe\">\n",
       "  <thead>\n",
       "    <tr style=\"text-align: right;\">\n",
       "      <th></th>\n",
       "      <th>Time</th>\n",
       "      <th>Latitude</th>\n",
       "      <th>Longitude</th>\n",
       "      <th>Column</th>\n",
       "      <th>Uncertainty</th>\n",
       "    </tr>\n",
       "  </thead>\n",
       "  <tbody>\n",
       "    <tr>\n",
       "      <th>count</th>\n",
       "      <td>42626</td>\n",
       "      <td>42626.000000</td>\n",
       "      <td>42626.000000</td>\n",
       "      <td>4.262600e+04</td>\n",
       "      <td>4.262600e+04</td>\n",
       "    </tr>\n",
       "    <tr>\n",
       "      <th>mean</th>\n",
       "      <td>2023-08-01 10:04:03.286477568</td>\n",
       "      <td>41.038261</td>\n",
       "      <td>-74.409842</td>\n",
       "      <td>6.395124e+15</td>\n",
       "      <td>9.408860e+13</td>\n",
       "    </tr>\n",
       "    <tr>\n",
       "      <th>min</th>\n",
       "      <td>2020-08-12 15:19:31.900000</td>\n",
       "      <td>40.736100</td>\n",
       "      <td>-78.786900</td>\n",
       "      <td>-1.635613e+16</td>\n",
       "      <td>3.223532e+13</td>\n",
       "    </tr>\n",
       "    <tr>\n",
       "      <th>25%</th>\n",
       "      <td>2022-06-03 16:41:04.575000064</td>\n",
       "      <td>40.736100</td>\n",
       "      <td>-73.878100</td>\n",
       "      <td>3.015451e+15</td>\n",
       "      <td>7.610330e+13</td>\n",
       "    </tr>\n",
       "    <tr>\n",
       "      <th>50%</th>\n",
       "      <td>2023-08-23 15:02:34.800000</td>\n",
       "      <td>40.736100</td>\n",
       "      <td>-73.821500</td>\n",
       "      <td>5.089371e+15</td>\n",
       "      <td>9.040438e+13</td>\n",
       "    </tr>\n",
       "    <tr>\n",
       "      <th>75%</th>\n",
       "      <td>2024-08-24 19:36:07.575000064</td>\n",
       "      <td>40.867900</td>\n",
       "      <td>-73.821500</td>\n",
       "      <td>8.226696e+15</td>\n",
       "      <td>1.053619e+14</td>\n",
       "    </tr>\n",
       "    <tr>\n",
       "      <th>max</th>\n",
       "      <td>2025-10-22 19:32:29.700000</td>\n",
       "      <td>43.001500</td>\n",
       "      <td>-73.821500</td>\n",
       "      <td>6.174501e+16</td>\n",
       "      <td>5.155314e+14</td>\n",
       "    </tr>\n",
       "    <tr>\n",
       "      <th>std</th>\n",
       "      <td>NaN</td>\n",
       "      <td>0.709721</td>\n",
       "      <td>1.576964</td>\n",
       "      <td>5.023564e+15</td>\n",
       "      <td>2.937147e+13</td>\n",
       "    </tr>\n",
       "  </tbody>\n",
       "</table>\n",
       "</div>"
      ],
      "text/plain": [
       "                                Time      Latitude     Longitude  \\\n",
       "count                          42626  42626.000000  42626.000000   \n",
       "mean   2023-08-01 10:04:03.286477568     41.038261    -74.409842   \n",
       "min       2020-08-12 15:19:31.900000     40.736100    -78.786900   \n",
       "25%    2022-06-03 16:41:04.575000064     40.736100    -73.878100   \n",
       "50%       2023-08-23 15:02:34.800000     40.736100    -73.821500   \n",
       "75%    2024-08-24 19:36:07.575000064     40.867900    -73.821500   \n",
       "max       2025-10-22 19:32:29.700000     43.001500    -73.821500   \n",
       "std                              NaN      0.709721      1.576964   \n",
       "\n",
       "             Column   Uncertainty  \n",
       "count  4.262600e+04  4.262600e+04  \n",
       "mean   6.395124e+15  9.408860e+13  \n",
       "min   -1.635613e+16  3.223532e+13  \n",
       "25%    3.015451e+15  7.610330e+13  \n",
       "50%    5.089371e+15  9.040438e+13  \n",
       "75%    8.226696e+15  1.053619e+14  \n",
       "max    6.174501e+16  5.155314e+14  \n",
       "std    5.023564e+15  2.937147e+13  "
      ]
     },
     "execution_count": 41,
     "metadata": {},
     "output_type": "execute_result"
    }
   ],
   "source": [
    "print(\"Start Time:\", pgn_df.Time.min())\n",
    "print(\"End Time:\", pgn_df.Time.max())\n",
    "pgn_df.describe()"
   ]
  },
  {
   "cell_type": "markdown",
   "id": "64f1457f",
   "metadata": {},
   "source": [
    "First we'll need to filter data by the sptaial (lat/lon) and temporal (time) range.  The sptial range should be fine since data are tied to ground sites, while the time range covers a far longer time period than we're looking at here.\n",
    "\n",
    "**Future Work**<br>\n",
    "- Since the dataset is relatively small, consider building a model based on the entire dataset for the desired sites, then only download TEMPO data for the desired days."
   ]
  },
  {
   "cell_type": "markdown",
   "id": "69139af2",
   "metadata": {},
   "source": [
    "#### Temporal Filtering"
   ]
  },
  {
   "cell_type": "code",
   "execution_count": null,
   "id": "2ec00f57",
   "metadata": {},
   "outputs": [
    {
     "name": "stdout",
     "output_type": "stream",
     "text": [
      "Start Time: 2024-07-01 12:46:24.200000\n",
      "End Time: 2024-07-06 22:30:38.100000\n"
     ]
    },
    {
     "data": {
      "text/html": [
       "<div>\n",
       "<style scoped>\n",
       "    .dataframe tbody tr th:only-of-type {\n",
       "        vertical-align: middle;\n",
       "    }\n",
       "\n",
       "    .dataframe tbody tr th {\n",
       "        vertical-align: top;\n",
       "    }\n",
       "\n",
       "    .dataframe thead th {\n",
       "        text-align: right;\n",
       "    }\n",
       "</style>\n",
       "<table border=\"1\" class=\"dataframe\">\n",
       "  <thead>\n",
       "    <tr style=\"text-align: right;\">\n",
       "      <th></th>\n",
       "      <th>Time</th>\n",
       "      <th>Latitude</th>\n",
       "      <th>Longitude</th>\n",
       "      <th>Column</th>\n",
       "      <th>Uncertainty</th>\n",
       "    </tr>\n",
       "  </thead>\n",
       "  <tbody>\n",
       "    <tr>\n",
       "      <th>count</th>\n",
       "      <td>381</td>\n",
       "      <td>381.000000</td>\n",
       "      <td>381.000000</td>\n",
       "      <td>3.810000e+02</td>\n",
       "      <td>3.810000e+02</td>\n",
       "    </tr>\n",
       "    <tr>\n",
       "      <th>mean</th>\n",
       "      <td>2024-07-04 08:42:53.491076096</td>\n",
       "      <td>41.645828</td>\n",
       "      <td>-75.815480</td>\n",
       "      <td>4.749313e+15</td>\n",
       "      <td>9.097778e+13</td>\n",
       "    </tr>\n",
       "    <tr>\n",
       "      <th>min</th>\n",
       "      <td>2024-07-01 12:46:24.200000</td>\n",
       "      <td>40.736100</td>\n",
       "      <td>-78.786900</td>\n",
       "      <td>4.410074e+14</td>\n",
       "      <td>5.085818e+13</td>\n",
       "    </tr>\n",
       "    <tr>\n",
       "      <th>25%</th>\n",
       "      <td>2024-07-02 18:20:13.300000</td>\n",
       "      <td>40.736100</td>\n",
       "      <td>-78.786900</td>\n",
       "      <td>1.514990e+15</td>\n",
       "      <td>7.574046e+13</td>\n",
       "    </tr>\n",
       "    <tr>\n",
       "      <th>50%</th>\n",
       "      <td>2024-07-04 15:30:46.300000</td>\n",
       "      <td>40.736100</td>\n",
       "      <td>-73.821500</td>\n",
       "      <td>3.710662e+15</td>\n",
       "      <td>8.875431e+13</td>\n",
       "    </tr>\n",
       "    <tr>\n",
       "      <th>75%</th>\n",
       "      <td>2024-07-05 18:08:37</td>\n",
       "      <td>43.001500</td>\n",
       "      <td>-73.821500</td>\n",
       "      <td>6.629173e+15</td>\n",
       "      <td>1.003770e+14</td>\n",
       "    </tr>\n",
       "    <tr>\n",
       "      <th>max</th>\n",
       "      <td>2024-07-06 22:30:38.100000</td>\n",
       "      <td>43.001500</td>\n",
       "      <td>-73.821500</td>\n",
       "      <td>2.163695e+16</td>\n",
       "      <td>2.385611e+14</td>\n",
       "    </tr>\n",
       "    <tr>\n",
       "      <th>std</th>\n",
       "      <td>NaN</td>\n",
       "      <td>1.111997</td>\n",
       "      <td>2.437323</td>\n",
       "      <td>3.971969e+15</td>\n",
       "      <td>2.427813e+13</td>\n",
       "    </tr>\n",
       "  </tbody>\n",
       "</table>\n",
       "</div>"
      ],
      "text/plain": [
       "                                Time    Latitude   Longitude        Column  \\\n",
       "count                            381  381.000000  381.000000  3.810000e+02   \n",
       "mean   2024-07-04 08:42:53.491076096   41.645828  -75.815480  4.749313e+15   \n",
       "min       2024-07-01 12:46:24.200000   40.736100  -78.786900  4.410074e+14   \n",
       "25%       2024-07-02 18:20:13.300000   40.736100  -78.786900  1.514990e+15   \n",
       "50%       2024-07-04 15:30:46.300000   40.736100  -73.821500  3.710662e+15   \n",
       "75%              2024-07-05 18:08:37   43.001500  -73.821500  6.629173e+15   \n",
       "max       2024-07-06 22:30:38.100000   43.001500  -73.821500  2.163695e+16   \n",
       "std                              NaN    1.111997    2.437323  3.971969e+15   \n",
       "\n",
       "        Uncertainty  \n",
       "count  3.810000e+02  \n",
       "mean   9.097778e+13  \n",
       "min    5.085818e+13  \n",
       "25%    7.574046e+13  \n",
       "50%    8.875431e+13  \n",
       "75%    1.003770e+14  \n",
       "max    2.385611e+14  \n",
       "std    2.427813e+13  "
      ]
     },
     "execution_count": 42,
     "metadata": {},
     "output_type": "execute_result"
    }
   ],
   "source": [
    "temporal_mask = (start_date < pgn_df.Time) & (pgn_df.Time < end_date)\n",
    "pgn_df = pgn_df[temporal_mask]\n",
    "print(\"Start Time:\", pgn_df.Time.min())\n",
    "print(\"End Time:\", pgn_df.Time.max())\n",
    "pgn_df.describe()"
   ]
  },
  {
   "cell_type": "markdown",
   "id": "30d7b443",
   "metadata": {},
   "source": [
    "Check for missing values"
   ]
  },
  {
   "cell_type": "code",
   "execution_count": null,
   "id": "c21eb757",
   "metadata": {},
   "outputs": [
    {
     "data": {
      "text/plain": [
       "Time           0\n",
       "Latitude       0\n",
       "Longitude      0\n",
       "Column         0\n",
       "Uncertainty    0\n",
       "Site           0\n",
       "dtype: int64"
      ]
     },
     "execution_count": 43,
     "metadata": {},
     "output_type": "execute_result"
    }
   ],
   "source": [
    "pgn_df.isna().sum()"
   ]
  },
  {
   "cell_type": "markdown",
   "id": "57f85782",
   "metadata": {},
   "source": [
    "There's no missing data to drop.  Next we'll look at the data."
   ]
  },
  {
   "cell_type": "code",
   "execution_count": null,
   "id": "08c272ea",
   "metadata": {},
   "outputs": [
    {
     "data": {
      "text/plain": [
       "<Axes: xlabel='Time', ylabel='Column'>"
      ]
     },
     "execution_count": 45,
     "metadata": {},
     "output_type": "execute_result"
    },
    {
     "data": {
      "image/png": "[encoded data removed]",
      "text/plain": [
       "<Figure size 640x480 with 1 Axes>"
      ]
     },
     "metadata": {},
     "output_type": "display_data"
    }
   ],
   "source": [
    "import seaborn as sns\n",
    "\n",
    "\n",
    "sns.lineplot(data=pgn_df, x='Time', y='Column')"
   ]
  },
  {
   "cell_type": "markdown",
   "id": "462f8c30",
   "metadata": {},
   "source": [
    "#### Load TEMPO"
   ]
  },
  {
   "cell_type": "code",
   "execution_count": null,
   "id": "176a62cc",
   "metadata": {},
   "outputs": [
    {
     "name": "stdout",
     "output_type": "stream",
     "text": [
      "TEMPO Data Shape: (85852160, 5)\n"
     ]
    },
    {
     "data": {
      "text/html": [
       "<div>\n",
       "<style scoped>\n",
       "    .dataframe tbody tr th:only-of-type {\n",
       "        vertical-align: middle;\n",
       "    }\n",
       "\n",
       "    .dataframe tbody tr th {\n",
       "        vertical-align: top;\n",
       "    }\n",
       "\n",
       "    .dataframe thead th {\n",
       "        text-align: right;\n",
       "    }\n",
       "</style>\n",
       "<table border=\"1\" class=\"dataframe\">\n",
       "  <thead>\n",
       "    <tr style=\"text-align: right;\">\n",
       "      <th></th>\n",
       "      <th>Time</th>\n",
       "      <th>Latitude</th>\n",
       "      <th>Longitude</th>\n",
       "      <th>Column</th>\n",
       "      <th>Uncertainty</th>\n",
       "    </tr>\n",
       "  </thead>\n",
       "  <tbody>\n",
       "    <tr>\n",
       "      <th>0</th>\n",
       "      <td>2024-07-01 10:47:19</td>\n",
       "      <td>58.767970</td>\n",
       "      <td>-64.054330</td>\n",
       "      <td>-1.000000e+30</td>\n",
       "      <td>-1.000000e+30</td>\n",
       "    </tr>\n",
       "    <tr>\n",
       "      <th>43194363</th>\n",
       "      <td>2024-07-01 10:47:19</td>\n",
       "      <td>17.319422</td>\n",
       "      <td>-83.777940</td>\n",
       "      <td>-1.000000e+30</td>\n",
       "      <td>-1.000000e+30</td>\n",
       "    </tr>\n",
       "    <tr>\n",
       "      <th>43194364</th>\n",
       "      <td>2024-07-01 10:47:19</td>\n",
       "      <td>17.304821</td>\n",
       "      <td>-83.778740</td>\n",
       "      <td>-1.000000e+30</td>\n",
       "      <td>-1.000000e+30</td>\n",
       "    </tr>\n",
       "    <tr>\n",
       "      <th>43194365</th>\n",
       "      <td>2024-07-01 10:47:19</td>\n",
       "      <td>17.290222</td>\n",
       "      <td>-83.779530</td>\n",
       "      <td>-1.000000e+30</td>\n",
       "      <td>-1.000000e+30</td>\n",
       "    </tr>\n",
       "    <tr>\n",
       "      <th>43194366</th>\n",
       "      <td>2024-07-01 10:47:19</td>\n",
       "      <td>17.275625</td>\n",
       "      <td>-83.780334</td>\n",
       "      <td>-1.000000e+30</td>\n",
       "      <td>-1.000000e+30</td>\n",
       "    </tr>\n",
       "  </tbody>\n",
       "</table>\n",
       "</div>"
      ],
      "text/plain": [
       "                        Time   Latitude  Longitude        Column   Uncertainty\n",
       "0        2024-07-01 10:47:19  58.767970 -64.054330 -1.000000e+30 -1.000000e+30\n",
       "43194363 2024-07-01 10:47:19  17.319422 -83.777940 -1.000000e+30 -1.000000e+30\n",
       "43194364 2024-07-01 10:47:19  17.304821 -83.778740 -1.000000e+30 -1.000000e+30\n",
       "43194365 2024-07-01 10:47:19  17.290222 -83.779530 -1.000000e+30 -1.000000e+30\n",
       "43194366 2024-07-01 10:47:19  17.275625 -83.780334 -1.000000e+30 -1.000000e+30"
      ]
     },
     "execution_count": 24,
     "metadata": {},
     "output_type": "execute_result"
    }
   ],
   "source": [
    "# raise Exception(\"This function takes too long to run\")\n",
    "# select the number of samples to take (as data gets far too large to process on a single machine), also sort in terms of time\n",
    "tempo_df = pd.concat([pd.read_csv(p, engine=\"pyarrow\") for p in TEMPO_FILES], ignore_index=True).sort_values('Time')\n",
    "print(\"TEMPO Data Shape:\", tempo_df.shape)\n",
    "tempo_df.head()"
   ]
  },
  {
   "cell_type": "markdown",
   "id": "faeb645b",
   "metadata": {},
   "source": [
    "It looks like there might be some outliers.  To handle them I'll remove values that are more than 3 standard deviations above and values that are negative."
   ]
  },
  {
   "cell_type": "code",
   "execution_count": null,
   "id": "ab8c15f1",
   "metadata": {},
   "outputs": [
    {
     "data": {
      "text/plain": [
       "<Axes: xlabel='Time', ylabel='Column'>"
      ]
     },
     "execution_count": 23,
     "metadata": {},
     "output_type": "execute_result"
    },
    {
     "data": {
      "image/png": "[encoded data removed]",
      "text/plain": [
       "<Figure size 640x480 with 1 Axes>"
      ]
     },
     "metadata": {},
     "output_type": "display_data"
    }
   ],
   "source": [
    "cutoff = pgn_df.Column.mean() + (pgn_df.Column.std() * 3)\n",
    "outlier_mask = pgn_df.Column < cutoff\n",
    "negative_mask = pgn_df.Column > 0\n",
    "pgn_df = pgn_df[outlier_mask & negative_mask]\n",
    "sns.lineplot(data=pgn_df.sample(1000), x='Time', y='Column')"
   ]
  },
  {
   "cell_type": "code",
   "execution_count": null,
   "id": "6a09b975",
   "metadata": {},
   "outputs": [
    {
     "name": "stdout",
     "output_type": "stream",
     "text": [
      "Start Time: 2020-08-12 15:19:31.900\n",
      "End Time: 2025-10-22 19:32:29.700\n"
     ]
    }
   ],
   "source": []
  },
  {
   "cell_type": "markdown",
   "id": "20326498",
   "metadata": {},
   "source": []
  },
  {
   "cell_type": "markdown",
   "id": "bde00571",
   "metadata": {},
   "source": [
    "### 1.3. Clean Data"
   ]
  },
  {
   "cell_type": "markdown",
   "id": "e97eb1fc",
   "metadata": {},
   "source": [
    "#### 1.3.1 Clean Pandora "
   ]
  },
  {
   "cell_type": "markdown",
   "id": "237958d0",
   "metadata": {},
   "source": [
    "**Future Work**<br>\n",
    "For now I only use raw data with outliers removed.  Consider performing the following steps to further normalize datasets.\n",
    "1) Seasonal Composition\n",
    "1) Standardized Data"
   ]
  },
  {
   "cell_type": "code",
   "execution_count": null,
   "id": "97508e48",
   "metadata": {},
   "outputs": [],
   "source": [
    "def get_outlier_mask(column: pd.Series) -> pd.Series:\n",
    "    \"\"\"\n",
    "    Returns a mask where outliers are False for use in filtering outliers.\n",
    "    Outliers are defined as more than 3 standard deviations from the mean.\n",
    "    Intended for use in filtering out outliers.\n",
    "    use: \n",
    "        mask = get_outlier_mask(df.ColumnOfIntrest)\n",
    "        df = df[mask]\n",
    "\n",
    "    ARGS:\n",
    "        column (pd.Series[float]): the column to build a mask for\n",
    "    \n",
    "    RETURN\n",
    "        pd.Series[bool]: A mask of the outliers\n",
    "    \"\"\"\n",
    "    col_std = column.std()\n",
    "    col_mean = column.mean()\n",
    "    min_cutoff = col_mean - (3 * col_std)\n",
    "    max_cutoff = col_mean + (3 * col_std)\n",
    "    return (min_cutoff < column) & (column < max_cutoff)"
   ]
  },
  {
   "cell_type": "markdown",
   "id": "053819ad",
   "metadata": {},
   "source": [
    "Raw Data Cleaning"
   ]
  },
  {
   "cell_type": "code",
   "execution_count": null,
   "id": "510f1694",
   "metadata": {},
   "outputs": [
    {
     "ename": "NameError",
     "evalue": "name 'pgn_data' is not defined",
     "output_type": "error",
     "traceback": [
      "\u001b[31m---------------------------------------------------------------------------\u001b[39m",
      "\u001b[31mNameError\u001b[39m                                 Traceback (most recent call last)",
      "\u001b[36mCell\u001b[39m\u001b[36m \u001b[39m\u001b[32mIn[16]\u001b[39m\u001b[32m, line 1\u001b[39m\n\u001b[32m----> \u001b[39m\u001b[32m1\u001b[39m col_mask = get_outlier_mask(\u001b[43mpgn_data\u001b[49m.Column)\n\u001b[32m      2\u001b[39m unc_mask = get_outlier_mask(pgn_data.Uncertainty)\n\u001b[32m      3\u001b[39m mask = col_mask & unc_mask\n",
      "\u001b[31mNameError\u001b[39m: name 'pgn_data' is not defined"
     ]
    }
   ],
   "source": [
    "col_mask = get_outlier_mask(pgn_data.Column)\n",
    "unc_mask = get_outlier_mask(pgn_data.Uncertainty)\n",
    "mask = col_mask & unc_mask\n",
    "\n",
    "print(\"Filtering\", sum(~mask), \"rows of\", len(mask), f\"due to outliers, {round(sum(~mask)/len(mask)*100)}%\")\n",
    "pgn_clean_data = pgn_data[mask]\n",
    "pgn_clean_data.head()"
   ]
  },
  {
   "cell_type": "markdown",
   "id": "7e051376",
   "metadata": {},
   "source": [
    "#### 1.3.2 Clean TEMPO"
   ]
  },
  {
   "cell_type": "markdown",
   "id": "04d08698",
   "metadata": {},
   "source": [
    "### 1.4. Transform Data"
   ]
  },
  {
   "cell_type": "code",
   "execution_count": null,
   "id": "8bba6d3d",
   "metadata": {},
   "outputs": [
    {
     "name": "stdout",
     "output_type": "stream",
     "text": [
      "Filtering 122548 rows of 4472012 due to outliers, 3%\n"
     ]
    },
    {
     "data": {
      "text/html": [
       "<div>\n",
       "<style scoped>\n",
       "    .dataframe tbody tr th:only-of-type {\n",
       "        vertical-align: middle;\n",
       "    }\n",
       "\n",
       "    .dataframe tbody tr th {\n",
       "        vertical-align: top;\n",
       "    }\n",
       "\n",
       "    .dataframe thead th {\n",
       "        text-align: right;\n",
       "    }\n",
       "</style>\n",
       "<table border=\"1\" class=\"dataframe\">\n",
       "  <thead>\n",
       "    <tr style=\"text-align: right;\">\n",
       "      <th></th>\n",
       "      <th>Time</th>\n",
       "      <th>Latitude</th>\n",
       "      <th>Longitude</th>\n",
       "      <th>Column</th>\n",
       "      <th>Uncertainty</th>\n",
       "    </tr>\n",
       "  </thead>\n",
       "  <tbody>\n",
       "    <tr>\n",
       "      <th>0</th>\n",
       "      <td>1.403866e+09</td>\n",
       "      <td>58.582800</td>\n",
       "      <td>-64.220375</td>\n",
       "      <td>5.018798e+14</td>\n",
       "      <td>1.366402e+14</td>\n",
       "    </tr>\n",
       "    <tr>\n",
       "      <th>1</th>\n",
       "      <td>1.403866e+09</td>\n",
       "      <td>58.536476</td>\n",
       "      <td>-64.263855</td>\n",
       "      <td>6.264613e+14</td>\n",
       "      <td>2.370017e+14</td>\n",
       "    </tr>\n",
       "    <tr>\n",
       "      <th>2</th>\n",
       "      <td>1.403866e+09</td>\n",
       "      <td>58.496826</td>\n",
       "      <td>-64.299690</td>\n",
       "      <td>6.328754e+14</td>\n",
       "      <td>2.307473e+14</td>\n",
       "    </tr>\n",
       "    <tr>\n",
       "      <th>3</th>\n",
       "      <td>1.403866e+09</td>\n",
       "      <td>58.458267</td>\n",
       "      <td>-64.334200</td>\n",
       "      <td>3.225646e+14</td>\n",
       "      <td>3.939703e+14</td>\n",
       "    </tr>\n",
       "    <tr>\n",
       "      <th>4</th>\n",
       "      <td>1.403866e+09</td>\n",
       "      <td>58.421070</td>\n",
       "      <td>-64.367096</td>\n",
       "      <td>2.493699e+14</td>\n",
       "      <td>2.303265e+14</td>\n",
       "    </tr>\n",
       "  </tbody>\n",
       "</table>\n",
       "</div>"
      ],
      "text/plain": [
       "           Time   Latitude  Longitude        Column   Uncertainty\n",
       "0  1.403866e+09  58.582800 -64.220375  5.018798e+14  1.366402e+14\n",
       "1  1.403866e+09  58.536476 -64.263855  6.264613e+14  2.370017e+14\n",
       "2  1.403866e+09  58.496826 -64.299690  6.328754e+14  2.307473e+14\n",
       "3  1.403866e+09  58.458267 -64.334200  3.225646e+14  3.939703e+14\n",
       "4  1.403866e+09  58.421070 -64.367096  2.493699e+14  2.303265e+14"
      ]
     },
     "execution_count": 128,
     "metadata": {},
     "output_type": "execute_result"
    }
   ],
   "source": [
    "col_mask = get_outlier_mask(tempo_data.Column)\n",
    "unc_mask = get_outlier_mask(tempo_data.Uncertainty)\n",
    "mask = col_mask & unc_mask\n",
    "\n",
    "print(\"Filtering\", sum(~mask), \"rows of\", len(mask), f\"due to outliers, {round(sum(~mask)/len(mask)*100)}%\")\n",
    "tempo_clean_data = tempo_data[mask]\n",
    "tempo_clean_data.head()"
   ]
  },
  {
   "cell_type": "markdown",
   "id": "42a5dc38",
   "metadata": {},
   "source": [
    "Compare clean data"
   ]
  },
  {
   "cell_type": "code",
   "execution_count": null,
   "id": "f09fec5d",
   "metadata": {},
   "outputs": [
    {
     "data": {
      "text/html": [
       "<div>\n",
       "<style scoped>\n",
       "    .dataframe tbody tr th:only-of-type {\n",
       "        vertical-align: middle;\n",
       "    }\n",
       "\n",
       "    .dataframe tbody tr th {\n",
       "        vertical-align: top;\n",
       "    }\n",
       "\n",
       "    .dataframe thead th {\n",
       "        text-align: right;\n",
       "    }\n",
       "</style>\n",
       "<table border=\"1\" class=\"dataframe\">\n",
       "  <thead>\n",
       "    <tr style=\"text-align: right;\">\n",
       "      <th></th>\n",
       "      <th>Column_PGN</th>\n",
       "      <th>Uncertainty_PGN</th>\n",
       "      <th>Column_TEMPO</th>\n",
       "      <th>Uncertainty_TEMPO</th>\n",
       "    </tr>\n",
       "  </thead>\n",
       "  <tbody>\n",
       "    <tr>\n",
       "      <th>count</th>\n",
       "      <td>1.303100e+04</td>\n",
       "      <td>1.303100e+04</td>\n",
       "      <td>4.349464e+06</td>\n",
       "      <td>4.349464e+06</td>\n",
       "    </tr>\n",
       "    <tr>\n",
       "      <th>mean</th>\n",
       "      <td>5.773519e+15</td>\n",
       "      <td>9.517311e+13</td>\n",
       "      <td>1.092413e+15</td>\n",
       "      <td>1.106714e+15</td>\n",
       "    </tr>\n",
       "    <tr>\n",
       "      <th>std</th>\n",
       "      <td>4.212874e+15</td>\n",
       "      <td>2.234539e+13</td>\n",
       "      <td>1.393054e+15</td>\n",
       "      <td>9.597021e+14</td>\n",
       "    </tr>\n",
       "    <tr>\n",
       "      <th>min</th>\n",
       "      <td>-9.081990e+15</td>\n",
       "      <td>3.743784e+13</td>\n",
       "      <td>-5.380277e+15</td>\n",
       "      <td>1.066555e+14</td>\n",
       "    </tr>\n",
       "    <tr>\n",
       "      <th>25%</th>\n",
       "      <td>2.513069e+15</td>\n",
       "      <td>7.985961e+13</td>\n",
       "      <td>2.308500e+14</td>\n",
       "      <td>5.281086e+14</td>\n",
       "    </tr>\n",
       "    <tr>\n",
       "      <th>50%</th>\n",
       "      <td>4.743219e+15</td>\n",
       "      <td>9.366838e+13</td>\n",
       "      <td>7.939537e+14</td>\n",
       "      <td>7.705515e+14</td>\n",
       "    </tr>\n",
       "    <tr>\n",
       "      <th>75%</th>\n",
       "      <td>7.877863e+15</td>\n",
       "      <td>1.073386e+14</td>\n",
       "      <td>1.648714e+15</td>\n",
       "      <td>1.267311e+15</td>\n",
       "    </tr>\n",
       "    <tr>\n",
       "      <th>max</th>\n",
       "      <td>2.237526e+16</td>\n",
       "      <td>1.823444e+14</td>\n",
       "      <td>7.897732e+15</td>\n",
       "      <td>6.365967e+15</td>\n",
       "    </tr>\n",
       "  </tbody>\n",
       "</table>\n",
       "</div>"
      ],
      "text/plain": [
       "         Column_PGN  Uncertainty_PGN  Column_TEMPO  Uncertainty_TEMPO\n",
       "count  1.303100e+04     1.303100e+04  4.349464e+06       4.349464e+06\n",
       "mean   5.773519e+15     9.517311e+13  1.092413e+15       1.106714e+15\n",
       "std    4.212874e+15     2.234539e+13  1.393054e+15       9.597021e+14\n",
       "min   -9.081990e+15     3.743784e+13 -5.380277e+15       1.066555e+14\n",
       "25%    2.513069e+15     7.985961e+13  2.308500e+14       5.281086e+14\n",
       "50%    4.743219e+15     9.366838e+13  7.939537e+14       7.705515e+14\n",
       "75%    7.877863e+15     1.073386e+14  1.648714e+15       1.267311e+15\n",
       "max    2.237526e+16     1.823444e+14  7.897732e+15       6.365967e+15"
      ]
     },
     "execution_count": 129,
     "metadata": {},
     "output_type": "execute_result"
    }
   ],
   "source": [
    "clean_compare_df = pgn_clean_data[['Column', 'Uncertainty']].describe().join(\n",
    "    tempo_clean_data[['Column', 'Uncertainty']].describe(),\n",
    "    lsuffix='_PGN',\n",
    "    rsuffix='_TEMPO'\n",
    ")\n",
    "clean_compare_df"
   ]
  },
  {
   "cell_type": "markdown",
   "id": "afae864b",
   "metadata": {},
   "source": [
    "Git differences between raw and clean data comparison"
   ]
  },
  {
   "cell_type": "code",
   "execution_count": null,
   "id": "9d18d562",
   "metadata": {},
   "outputs": [
    {
     "data": {
      "text/html": [
       "<div>\n",
       "<style scoped>\n",
       "    .dataframe tbody tr th:only-of-type {\n",
       "        vertical-align: middle;\n",
       "    }\n",
       "\n",
       "    .dataframe tbody tr th {\n",
       "        vertical-align: top;\n",
       "    }\n",
       "\n",
       "    .dataframe thead th {\n",
       "        text-align: right;\n",
       "    }\n",
       "</style>\n",
       "<table border=\"1\" class=\"dataframe\">\n",
       "  <thead>\n",
       "    <tr style=\"text-align: right;\">\n",
       "      <th></th>\n",
       "      <th>Column_PGN</th>\n",
       "      <th>Uncertainty_PGN</th>\n",
       "      <th>Column_TEMPO</th>\n",
       "      <th>Uncertainty_TEMPO</th>\n",
       "    </tr>\n",
       "  </thead>\n",
       "  <tbody>\n",
       "    <tr>\n",
       "      <th>count</th>\n",
       "      <td>1.337700e+04</td>\n",
       "      <td>1.337700e+04</td>\n",
       "      <td>4.472012e+06</td>\n",
       "      <td>4.472012e+06</td>\n",
       "    </tr>\n",
       "    <tr>\n",
       "      <th>mean</th>\n",
       "      <td>6.289382e+15</td>\n",
       "      <td>9.779774e+13</td>\n",
       "      <td>1.257430e+15</td>\n",
       "      <td>1.291481e+15</td>\n",
       "    </tr>\n",
       "    <tr>\n",
       "      <th>std</th>\n",
       "      <td>5.370501e+15</td>\n",
       "      <td>2.841439e+13</td>\n",
       "      <td>2.213436e+15</td>\n",
       "      <td>1.691506e+15</td>\n",
       "    </tr>\n",
       "    <tr>\n",
       "      <th>min</th>\n",
       "      <td>-1.635613e+16</td>\n",
       "      <td>3.743784e+13</td>\n",
       "      <td>-1.166274e+17</td>\n",
       "      <td>1.066555e+14</td>\n",
       "    </tr>\n",
       "    <tr>\n",
       "      <th>25%</th>\n",
       "      <td>2.565372e+15</td>\n",
       "      <td>8.028718e+13</td>\n",
       "      <td>2.362738e+14</td>\n",
       "      <td>5.334135e+14</td>\n",
       "    </tr>\n",
       "    <tr>\n",
       "      <th>50%</th>\n",
       "      <td>4.886726e+15</td>\n",
       "      <td>9.432479e+13</td>\n",
       "      <td>8.152280e+14</td>\n",
       "      <td>7.879533e+14</td>\n",
       "    </tr>\n",
       "    <tr>\n",
       "      <th>75%</th>\n",
       "      <td>8.262979e+15</td>\n",
       "      <td>1.087478e+14</td>\n",
       "      <td>1.723481e+15</td>\n",
       "      <td>1.346081e+15</td>\n",
       "    </tr>\n",
       "    <tr>\n",
       "      <th>max</th>\n",
       "      <td>5.084433e+16</td>\n",
       "      <td>4.669327e+14</td>\n",
       "      <td>2.927148e+17</td>\n",
       "      <td>2.446642e+17</td>\n",
       "    </tr>\n",
       "  </tbody>\n",
       "</table>\n",
       "</div>"
      ],
      "text/plain": [
       "         Column_PGN  Uncertainty_PGN  Column_TEMPO  Uncertainty_TEMPO\n",
       "count  1.337700e+04     1.337700e+04  4.472012e+06       4.472012e+06\n",
       "mean   6.289382e+15     9.779774e+13  1.257430e+15       1.291481e+15\n",
       "std    5.370501e+15     2.841439e+13  2.213436e+15       1.691506e+15\n",
       "min   -1.635613e+16     3.743784e+13 -1.166274e+17       1.066555e+14\n",
       "25%    2.565372e+15     8.028718e+13  2.362738e+14       5.334135e+14\n",
       "50%    4.886726e+15     9.432479e+13  8.152280e+14       7.879533e+14\n",
       "75%    8.262979e+15     1.087478e+14  1.723481e+15       1.346081e+15\n",
       "max    5.084433e+16     4.669327e+14  2.927148e+17       2.446642e+17"
      ]
     },
     "execution_count": 130,
     "metadata": {},
     "output_type": "execute_result"
    }
   ],
   "source": [
    "raw_compare_df"
   ]
  },
  {
   "cell_type": "code",
   "execution_count": null,
   "id": "6106e70c",
   "metadata": {},
   "outputs": [
    {
     "data": {
      "text/html": [
       "<div>\n",
       "<style scoped>\n",
       "    .dataframe tbody tr th:only-of-type {\n",
       "        vertical-align: middle;\n",
       "    }\n",
       "\n",
       "    .dataframe tbody tr th {\n",
       "        vertical-align: top;\n",
       "    }\n",
       "\n",
       "    .dataframe thead th {\n",
       "        text-align: right;\n",
       "    }\n",
       "</style>\n",
       "<table border=\"1\" class=\"dataframe\">\n",
       "  <thead>\n",
       "    <tr style=\"text-align: right;\">\n",
       "      <th></th>\n",
       "      <th>Column_PGN</th>\n",
       "      <th>Uncertainty_PGN</th>\n",
       "      <th>Column_TEMPO</th>\n",
       "      <th>Uncertainty_TEMPO</th>\n",
       "    </tr>\n",
       "  </thead>\n",
       "  <tbody>\n",
       "    <tr>\n",
       "      <th>count</th>\n",
       "      <td>1.303100e+04</td>\n",
       "      <td>1.303100e+04</td>\n",
       "      <td>4.349464e+06</td>\n",
       "      <td>4.349464e+06</td>\n",
       "    </tr>\n",
       "    <tr>\n",
       "      <th>mean</th>\n",
       "      <td>5.773519e+15</td>\n",
       "      <td>9.517311e+13</td>\n",
       "      <td>1.092413e+15</td>\n",
       "      <td>1.106714e+15</td>\n",
       "    </tr>\n",
       "    <tr>\n",
       "      <th>std</th>\n",
       "      <td>4.212874e+15</td>\n",
       "      <td>2.234539e+13</td>\n",
       "      <td>1.393054e+15</td>\n",
       "      <td>9.597021e+14</td>\n",
       "    </tr>\n",
       "    <tr>\n",
       "      <th>min</th>\n",
       "      <td>-9.081990e+15</td>\n",
       "      <td>3.743784e+13</td>\n",
       "      <td>-5.380277e+15</td>\n",
       "      <td>1.066555e+14</td>\n",
       "    </tr>\n",
       "    <tr>\n",
       "      <th>25%</th>\n",
       "      <td>2.513069e+15</td>\n",
       "      <td>7.985961e+13</td>\n",
       "      <td>2.308500e+14</td>\n",
       "      <td>5.281086e+14</td>\n",
       "    </tr>\n",
       "    <tr>\n",
       "      <th>50%</th>\n",
       "      <td>4.743219e+15</td>\n",
       "      <td>9.366838e+13</td>\n",
       "      <td>7.939537e+14</td>\n",
       "      <td>7.705515e+14</td>\n",
       "    </tr>\n",
       "    <tr>\n",
       "      <th>75%</th>\n",
       "      <td>7.877863e+15</td>\n",
       "      <td>1.073386e+14</td>\n",
       "      <td>1.648714e+15</td>\n",
       "      <td>1.267311e+15</td>\n",
       "    </tr>\n",
       "    <tr>\n",
       "      <th>max</th>\n",
       "      <td>2.237526e+16</td>\n",
       "      <td>1.823444e+14</td>\n",
       "      <td>7.897732e+15</td>\n",
       "      <td>6.365967e+15</td>\n",
       "    </tr>\n",
       "  </tbody>\n",
       "</table>\n",
       "</div>"
      ],
      "text/plain": [
       "         Column_PGN  Uncertainty_PGN  Column_TEMPO  Uncertainty_TEMPO\n",
       "count  1.303100e+04     1.303100e+04  4.349464e+06       4.349464e+06\n",
       "mean   5.773519e+15     9.517311e+13  1.092413e+15       1.106714e+15\n",
       "std    4.212874e+15     2.234539e+13  1.393054e+15       9.597021e+14\n",
       "min   -9.081990e+15     3.743784e+13 -5.380277e+15       1.066555e+14\n",
       "25%    2.513069e+15     7.985961e+13  2.308500e+14       5.281086e+14\n",
       "50%    4.743219e+15     9.366838e+13  7.939537e+14       7.705515e+14\n",
       "75%    7.877863e+15     1.073386e+14  1.648714e+15       1.267311e+15\n",
       "max    2.237526e+16     1.823444e+14  7.897732e+15       6.365967e+15"
      ]
     },
     "execution_count": 131,
     "metadata": {},
     "output_type": "execute_result"
    }
   ],
   "source": [
    "clean_compare_df"
   ]
  },
  {
   "cell_type": "markdown",
   "id": "7d8987d8",
   "metadata": {},
   "source": [
    "Filtering did not change the disparity between Uncertainty, it cannot be considered for now.  TEMPO numbers seem to be consistantly a bit lower, but this may be due to the fact that TEMPO data is only collected durrind daylight hours.  For now I will use both to build a model.\n",
    "\n",
    "**Future Work**\n",
    "Investigate difference in PGN and TEMPO readings."
   ]
  },
  {
   "cell_type": "markdown",
   "id": "08645d08",
   "metadata": {},
   "source": [
    "## 2. Data Modeling"
   ]
  },
  {
   "cell_type": "markdown",
   "id": "ff13e377",
   "metadata": {},
   "source": [
    "### 2.1 Data Prep"
   ]
  },
  {
   "cell_type": "code",
   "execution_count": null,
   "id": "63d32961",
   "metadata": {},
   "outputs": [
    {
     "data": {
      "text/html": [
       "<div>\n",
       "<style scoped>\n",
       "    .dataframe tbody tr th:only-of-type {\n",
       "        vertical-align: middle;\n",
       "    }\n",
       "\n",
       "    .dataframe tbody tr th {\n",
       "        vertical-align: top;\n",
       "    }\n",
       "\n",
       "    .dataframe thead th {\n",
       "        text-align: right;\n",
       "    }\n",
       "</style>\n",
       "<table border=\"1\" class=\"dataframe\">\n",
       "  <thead>\n",
       "    <tr style=\"text-align: right;\">\n",
       "      <th></th>\n",
       "      <th>Time</th>\n",
       "      <th>Latitude</th>\n",
       "      <th>Longitude</th>\n",
       "      <th>Location</th>\n",
       "      <th>Column</th>\n",
       "      <th>Uncertainty</th>\n",
       "    </tr>\n",
       "  </thead>\n",
       "  <tbody>\n",
       "    <tr>\n",
       "      <th>0</th>\n",
       "      <td>1.719842e+09</td>\n",
       "      <td>43.0015</td>\n",
       "      <td>-78.7869</td>\n",
       "      <td>BuffaloNY</td>\n",
       "      <td>7.549356e+14</td>\n",
       "      <td>1.135294e+14</td>\n",
       "    </tr>\n",
       "    <tr>\n",
       "      <th>1</th>\n",
       "      <td>1.719846e+09</td>\n",
       "      <td>43.0015</td>\n",
       "      <td>-78.7869</td>\n",
       "      <td>BuffaloNY</td>\n",
       "      <td>7.286790e+14</td>\n",
       "      <td>1.090429e+14</td>\n",
       "    </tr>\n",
       "    <tr>\n",
       "      <th>2</th>\n",
       "      <td>1.719847e+09</td>\n",
       "      <td>43.0015</td>\n",
       "      <td>-78.7869</td>\n",
       "      <td>BuffaloNY</td>\n",
       "      <td>4.645178e+14</td>\n",
       "      <td>1.056524e+14</td>\n",
       "    </tr>\n",
       "    <tr>\n",
       "      <th>3</th>\n",
       "      <td>1.719848e+09</td>\n",
       "      <td>43.0015</td>\n",
       "      <td>-78.7869</td>\n",
       "      <td>BuffaloNY</td>\n",
       "      <td>6.737571e+14</td>\n",
       "      <td>1.039542e+14</td>\n",
       "    </tr>\n",
       "    <tr>\n",
       "      <th>4</th>\n",
       "      <td>1.719849e+09</td>\n",
       "      <td>43.0015</td>\n",
       "      <td>-78.7869</td>\n",
       "      <td>BuffaloNY</td>\n",
       "      <td>4.410074e+14</td>\n",
       "      <td>1.003108e+14</td>\n",
       "    </tr>\n",
       "  </tbody>\n",
       "</table>\n",
       "</div>"
      ],
      "text/plain": [
       "           Time  Latitude  Longitude   Location        Column   Uncertainty\n",
       "0  1.719842e+09   43.0015   -78.7869  BuffaloNY  7.549356e+14  1.135294e+14\n",
       "1  1.719846e+09   43.0015   -78.7869  BuffaloNY  7.286790e+14  1.090429e+14\n",
       "2  1.719847e+09   43.0015   -78.7869  BuffaloNY  4.645178e+14  1.056524e+14\n",
       "3  1.719848e+09   43.0015   -78.7869  BuffaloNY  6.737571e+14  1.039542e+14\n",
       "4  1.719849e+09   43.0015   -78.7869  BuffaloNY  4.410074e+14  1.003108e+14"
      ]
     },
     "execution_count": 132,
     "metadata": {},
     "output_type": "execute_result"
    }
   ],
   "source": [
    "all_data = pd.concat([pgn_clean_data, tempo_clean_data])\n",
    "all_data.head()"
   ]
  },
  {
   "cell_type": "code",
   "execution_count": null,
   "id": "48d5bc7b",
   "metadata": {},
   "outputs": [
    {
     "data": {
      "text/html": [
       "<div>\n",
       "<style scoped>\n",
       "    .dataframe tbody tr th:only-of-type {\n",
       "        vertical-align: middle;\n",
       "    }\n",
       "\n",
       "    .dataframe tbody tr th {\n",
       "        vertical-align: top;\n",
       "    }\n",
       "\n",
       "    .dataframe thead th {\n",
       "        text-align: right;\n",
       "    }\n",
       "</style>\n",
       "<table border=\"1\" class=\"dataframe\">\n",
       "  <thead>\n",
       "    <tr style=\"text-align: right;\">\n",
       "      <th></th>\n",
       "      <th>Time</th>\n",
       "      <th>Latitude</th>\n",
       "      <th>Longitude</th>\n",
       "      <th>Column</th>\n",
       "      <th>Uncertainty</th>\n",
       "    </tr>\n",
       "  </thead>\n",
       "  <tbody>\n",
       "    <tr>\n",
       "      <th>count</th>\n",
       "      <td>4.362495e+06</td>\n",
       "      <td>4.362495e+06</td>\n",
       "      <td>4.362495e+06</td>\n",
       "      <td>4.362495e+06</td>\n",
       "      <td>4.362495e+06</td>\n",
       "    </tr>\n",
       "    <tr>\n",
       "      <th>mean</th>\n",
       "      <td>1.404901e+09</td>\n",
       "      <td>3.533997e+01</td>\n",
       "      <td>-7.798717e+01</td>\n",
       "      <td>1.106396e+15</td>\n",
       "      <td>1.103693e+15</td>\n",
       "    </tr>\n",
       "    <tr>\n",
       "      <th>std</th>\n",
       "      <td>1.831755e+07</td>\n",
       "      <td>1.135126e+01</td>\n",
       "      <td>3.389115e+00</td>\n",
       "      <td>1.432855e+15</td>\n",
       "      <td>9.598571e+14</td>\n",
       "    </tr>\n",
       "    <tr>\n",
       "      <th>min</th>\n",
       "      <td>1.403866e+09</td>\n",
       "      <td>1.733732e+01</td>\n",
       "      <td>-8.383506e+01</td>\n",
       "      <td>-9.081990e+15</td>\n",
       "      <td>3.743784e+13</td>\n",
       "    </tr>\n",
       "    <tr>\n",
       "      <th>25%</th>\n",
       "      <td>1.403876e+09</td>\n",
       "      <td>2.550596e+01</td>\n",
       "      <td>-8.045638e+01</td>\n",
       "      <td>2.325918e+14</td>\n",
       "      <td>5.263882e+14</td>\n",
       "    </tr>\n",
       "    <tr>\n",
       "      <th>50%</th>\n",
       "      <td>1.403890e+09</td>\n",
       "      <td>3.436251e+01</td>\n",
       "      <td>-7.847244e+01</td>\n",
       "      <td>7.975274e+14</td>\n",
       "      <td>7.687020e+14</td>\n",
       "    </tr>\n",
       "    <tr>\n",
       "      <th>75%</th>\n",
       "      <td>1.403908e+09</td>\n",
       "      <td>4.451519e+01</td>\n",
       "      <td>-7.622627e+01</td>\n",
       "      <td>1.658236e+15</td>\n",
       "      <td>1.264721e+15</td>\n",
       "    </tr>\n",
       "    <tr>\n",
       "      <th>max</th>\n",
       "      <td>1.760807e+09</td>\n",
       "      <td>5.863553e+01</td>\n",
       "      <td>-6.396864e+01</td>\n",
       "      <td>2.237526e+16</td>\n",
       "      <td>6.365967e+15</td>\n",
       "    </tr>\n",
       "  </tbody>\n",
       "</table>\n",
       "</div>"
      ],
      "text/plain": [
       "               Time      Latitude     Longitude        Column   Uncertainty\n",
       "count  4.362495e+06  4.362495e+06  4.362495e+06  4.362495e+06  4.362495e+06\n",
       "mean   1.404901e+09  3.533997e+01 -7.798717e+01  1.106396e+15  1.103693e+15\n",
       "std    1.831755e+07  1.135126e+01  3.389115e+00  1.432855e+15  9.598571e+14\n",
       "min    1.403866e+09  1.733732e+01 -8.383506e+01 -9.081990e+15  3.743784e+13\n",
       "25%    1.403876e+09  2.550596e+01 -8.045638e+01  2.325918e+14  5.263882e+14\n",
       "50%    1.403890e+09  3.436251e+01 -7.847244e+01  7.975274e+14  7.687020e+14\n",
       "75%    1.403908e+09  4.451519e+01 -7.622627e+01  1.658236e+15  1.264721e+15\n",
       "max    1.760807e+09  5.863553e+01 -6.396864e+01  2.237526e+16  6.365967e+15"
      ]
     },
     "execution_count": 133,
     "metadata": {},
     "output_type": "execute_result"
    }
   ],
   "source": [
    "all_data.describe()"
   ]
  },
  {
   "cell_type": "markdown",
   "id": "1cf81d8c",
   "metadata": {},
   "source": [
    "Convert time to Time of Day"
   ]
  },
  {
   "cell_type": "code",
   "execution_count": null,
   "id": "33f1db9d",
   "metadata": {},
   "outputs": [],
   "source": [
    "seconds_per_day = 86400\n",
    "seconds_since_start_of_day = all_data.Time % seconds_per_day\n",
    "all_data['TimeOfDay'] = seconds_since_start_of_day.astype(int)"
   ]
  },
  {
   "cell_type": "markdown",
   "id": "b7c3a022",
   "metadata": {},
   "source": [
    "For simplicity (and due to a file format issue that can be fixed later), times will be ignored.\n",
    "\n",
    "**Future Work**<br>\n",
    "Use time of day as a feature"
   ]
  },
  {
   "cell_type": "markdown",
   "id": "dfcd570a",
   "metadata": {},
   "source": [
    "Split Data"
   ]
  },
  {
   "cell_type": "code",
   "execution_count": null,
   "id": "2eab6ac1",
   "metadata": {},
   "outputs": [],
   "source": [
    "from sklearn.model_selection import train_test_split\n",
    "\n",
    "X_cols = ['Time', 'Latitude', 'Longitude']\n",
    "X = all_data[X_cols]\n",
    "y = all_data['Column']\n",
    "\n",
    "X_train, X_test, y_train, y_test = train_test_split(X, y)"
   ]
  },
  {
   "cell_type": "markdown",
   "id": "6f32d20b",
   "metadata": {},
   "source": [
    "### 2.2 Train Models"
   ]
  },
  {
   "cell_type": "code",
   "execution_count": null,
   "id": "b3c43ae3",
   "metadata": {},
   "outputs": [
    {
     "data": {
      "text/html": [
       "<style>#sk-container-id-3 {\n",
       "  /* Definition of color scheme common for light and dark mode */\n",
       "  --sklearn-color-text: #000;\n",
       "  --sklearn-color-text-muted: #666;\n",
       "  --sklearn-color-line: gray;\n",
       "  /* Definition of color scheme for unfitted estimators */\n",
       "  --sklearn-color-unfitted-level-0: #fff5e6;\n",
       "  --sklearn-color-unfitted-level-1: #f6e4d2;\n",
       "  --sklearn-color-unfitted-level-2: #ffe0b3;\n",
       "  --sklearn-color-unfitted-level-3: chocolate;\n",
       "  /* Definition of color scheme for fitted estimators */\n",
       "  --sklearn-color-fitted-level-0: #f0f8ff;\n",
       "  --sklearn-color-fitted-level-1: #d4ebff;\n",
       "  --sklearn-color-fitted-level-2: #b3dbfd;\n",
       "  --sklearn-color-fitted-level-3: cornflowerblue;\n",
       "\n",
       "  /* Specific color for light theme */\n",
       "  --sklearn-color-text-on-default-background: var(--sg-text-color, var(--theme-code-foreground, var(--jp-content-font-color1, black)));\n",
       "  --sklearn-color-background: var(--sg-background-color, var(--theme-background, var(--jp-layout-color0, white)));\n",
       "  --sklearn-color-border-box: var(--sg-text-color, var(--theme-code-foreground, var(--jp-content-font-color1, black)));\n",
       "  --sklearn-color-icon: #696969;\n",
       "\n",
       "  @media (prefers-color-scheme: dark) {\n",
       "    /* Redefinition of color scheme for dark theme */\n",
       "    --sklearn-color-text-on-default-background: var(--sg-text-color, var(--theme-code-foreground, var(--jp-content-font-color1, white)));\n",
       "    --sklearn-color-background: var(--sg-background-color, var(--theme-background, var(--jp-layout-color0, #111)));\n",
       "    --sklearn-color-border-box: var(--sg-text-color, var(--theme-code-foreground, var(--jp-content-font-color1, white)));\n",
       "    --sklearn-color-icon: #878787;\n",
       "  }\n",
       "}\n",
       "\n",
       "#sk-container-id-3 {\n",
       "  color: var(--sklearn-color-text);\n",
       "}\n",
       "\n",
       "#sk-container-id-3 pre {\n",
       "  padding: 0;\n",
       "}\n",
       "\n",
       "#sk-container-id-3 input.sk-hidden--visually {\n",
       "  border: 0;\n",
       "  clip: rect(1px 1px 1px 1px);\n",
       "  clip: rect(1px, 1px, 1px, 1px);\n",
       "  height: 1px;\n",
       "  margin: -1px;\n",
       "  overflow: hidden;\n",
       "  padding: 0;\n",
       "  position: absolute;\n",
       "  width: 1px;\n",
       "}\n",
       "\n",
       "#sk-container-id-3 div.sk-dashed-wrapped {\n",
       "  border: 1px dashed var(--sklearn-color-line);\n",
       "  margin: 0 0.4em 0.5em 0.4em;\n",
       "  box-sizing: border-box;\n",
       "  padding-bottom: 0.4em;\n",
       "  background-color: var(--sklearn-color-background);\n",
       "}\n",
       "\n",
       "#sk-container-id-3 div.sk-container {\n",
       "  /* jupyter's `normalize.less` sets `[hidden] { display: none; }`\n",
       "     but bootstrap.min.css set `[hidden] { display: none !important; }`\n",
       "     so we also need the `!important` here to be able to override the\n",
       "     default hidden behavior on the sphinx rendered scikit-learn.org.\n",
       "     See: https://github.com/scikit-learn/scikit-learn/issues/21755 */\n",
       "  display: inline-block !important;\n",
       "  position: relative;\n",
       "}\n",
       "\n",
       "#sk-container-id-3 div.sk-text-repr-fallback {\n",
       "  display: none;\n",
       "}\n",
       "\n",
       "div.sk-parallel-item,\n",
       "div.sk-serial,\n",
       "div.sk-item {\n",
       "  /* draw centered vertical line to link estimators */\n",
       "  background-image: linear-gradient(var(--sklearn-color-text-on-default-background), var(--sklearn-color-text-on-default-background));\n",
       "  background-size: 2px 100%;\n",
       "  background-repeat: no-repeat;\n",
       "  background-position: center center;\n",
       "}\n",
       "\n",
       "/* Parallel-specific style estimator block */\n",
       "\n",
       "#sk-container-id-3 div.sk-parallel-item::after {\n",
       "  content: \"\";\n",
       "  width: 100%;\n",
       "  border-bottom: 2px solid var(--sklearn-color-text-on-default-background);\n",
       "  flex-grow: 1;\n",
       "}\n",
       "\n",
       "#sk-container-id-3 div.sk-parallel {\n",
       "  display: flex;\n",
       "  align-items: stretch;\n",
       "  justify-content: center;\n",
       "  background-color: var(--sklearn-color-background);\n",
       "  position: relative;\n",
       "}\n",
       "\n",
       "#sk-container-id-3 div.sk-parallel-item {\n",
       "  display: flex;\n",
       "  flex-direction: column;\n",
       "}\n",
       "\n",
       "#sk-container-id-3 div.sk-parallel-item:first-child::after {\n",
       "  align-self: flex-end;\n",
       "  width: 50%;\n",
       "}\n",
       "\n",
       "#sk-container-id-3 div.sk-parallel-item:last-child::after {\n",
       "  align-self: flex-start;\n",
       "  width: 50%;\n",
       "}\n",
       "\n",
       "#sk-container-id-3 div.sk-parallel-item:only-child::after {\n",
       "  width: 0;\n",
       "}\n",
       "\n",
       "/* Serial-specific style estimator block */\n",
       "\n",
       "#sk-container-id-3 div.sk-serial {\n",
       "  display: flex;\n",
       "  flex-direction: column;\n",
       "  align-items: center;\n",
       "  background-color: var(--sklearn-color-background);\n",
       "  padding-right: 1em;\n",
       "  padding-left: 1em;\n",
       "}\n",
       "\n",
       "\n",
       "/* Toggleable style: style used for estimator/Pipeline/ColumnTransformer box that is\n",
       "clickable and can be expanded/collapsed.\n",
       "- Pipeline and ColumnTransformer use this feature and define the default style\n",
       "- Estimators will overwrite some part of the style using the `sk-estimator` class\n",
       "*/\n",
       "\n",
       "/* Pipeline and ColumnTransformer style (default) */\n",
       "\n",
       "#sk-container-id-3 div.sk-toggleable {\n",
       "  /* Default theme specific background. It is overwritten whether we have a\n",
       "  specific estimator or a Pipeline/ColumnTransformer */\n",
       "  background-color: var(--sklearn-color-background);\n",
       "}\n",
       "\n",
       "/* Toggleable label */\n",
       "#sk-container-id-3 label.sk-toggleable__label {\n",
       "  cursor: pointer;\n",
       "  display: flex;\n",
       "  width: 100%;\n",
       "  margin-bottom: 0;\n",
       "  padding: 0.5em;\n",
       "  box-sizing: border-box;\n",
       "  text-align: center;\n",
       "  align-items: start;\n",
       "  justify-content: space-between;\n",
       "  gap: 0.5em;\n",
       "}\n",
       "\n",
       "#sk-container-id-3 label.sk-toggleable__label .caption {\n",
       "  font-size: 0.6rem;\n",
       "  font-weight: lighter;\n",
       "  color: var(--sklearn-color-text-muted);\n",
       "}\n",
       "\n",
       "#sk-container-id-3 label.sk-toggleable__label-arrow:before {\n",
       "  /* Arrow on the left of the label */\n",
       "  content: \"▸\";\n",
       "  float: left;\n",
       "  margin-right: 0.25em;\n",
       "  color: var(--sklearn-color-icon);\n",
       "}\n",
       "\n",
       "#sk-container-id-3 label.sk-toggleable__label-arrow:hover:before {\n",
       "  color: var(--sklearn-color-text);\n",
       "}\n",
       "\n",
       "/* Toggleable content - dropdown */\n",
       "\n",
       "#sk-container-id-3 div.sk-toggleable__content {\n",
       "  display: none;\n",
       "  text-align: left;\n",
       "  /* unfitted */\n",
       "  background-color: var(--sklearn-color-unfitted-level-0);\n",
       "}\n",
       "\n",
       "#sk-container-id-3 div.sk-toggleable__content.fitted {\n",
       "  /* fitted */\n",
       "  background-color: var(--sklearn-color-fitted-level-0);\n",
       "}\n",
       "\n",
       "#sk-container-id-3 div.sk-toggleable__content pre {\n",
       "  margin: 0.2em;\n",
       "  border-radius: 0.25em;\n",
       "  color: var(--sklearn-color-text);\n",
       "  /* unfitted */\n",
       "  background-color: var(--sklearn-color-unfitted-level-0);\n",
       "}\n",
       "\n",
       "#sk-container-id-3 div.sk-toggleable__content.fitted pre {\n",
       "  /* unfitted */\n",
       "  background-color: var(--sklearn-color-fitted-level-0);\n",
       "}\n",
       "\n",
       "#sk-container-id-3 input.sk-toggleable__control:checked~div.sk-toggleable__content {\n",
       "  /* Expand drop-down */\n",
       "  display: block;\n",
       "  width: 100%;\n",
       "  overflow: visible;\n",
       "}\n",
       "\n",
       "#sk-container-id-3 input.sk-toggleable__control:checked~label.sk-toggleable__label-arrow:before {\n",
       "  content: \"▾\";\n",
       "}\n",
       "\n",
       "/* Pipeline/ColumnTransformer-specific style */\n",
       "\n",
       "#sk-container-id-3 div.sk-label input.sk-toggleable__control:checked~label.sk-toggleable__label {\n",
       "  color: var(--sklearn-color-text);\n",
       "  background-color: var(--sklearn-color-unfitted-level-2);\n",
       "}\n",
       "\n",
       "#sk-container-id-3 div.sk-label.fitted input.sk-toggleable__control:checked~label.sk-toggleable__label {\n",
       "  background-color: var(--sklearn-color-fitted-level-2);\n",
       "}\n",
       "\n",
       "/* Estimator-specific style */\n",
       "\n",
       "/* Colorize estimator box */\n",
       "#sk-container-id-3 div.sk-estimator input.sk-toggleable__control:checked~label.sk-toggleable__label {\n",
       "  /* unfitted */\n",
       "  background-color: var(--sklearn-color-unfitted-level-2);\n",
       "}\n",
       "\n",
       "#sk-container-id-3 div.sk-estimator.fitted input.sk-toggleable__control:checked~label.sk-toggleable__label {\n",
       "  /* fitted */\n",
       "  background-color: var(--sklearn-color-fitted-level-2);\n",
       "}\n",
       "\n",
       "#sk-container-id-3 div.sk-label label.sk-toggleable__label,\n",
       "#sk-container-id-3 div.sk-label label {\n",
       "  /* The background is the default theme color */\n",
       "  color: var(--sklearn-color-text-on-default-background);\n",
       "}\n",
       "\n",
       "/* On hover, darken the color of the background */\n",
       "#sk-container-id-3 div.sk-label:hover label.sk-toggleable__label {\n",
       "  color: var(--sklearn-color-text);\n",
       "  background-color: var(--sklearn-color-unfitted-level-2);\n",
       "}\n",
       "\n",
       "/* Label box, darken color on hover, fitted */\n",
       "#sk-container-id-3 div.sk-label.fitted:hover label.sk-toggleable__label.fitted {\n",
       "  color: var(--sklearn-color-text);\n",
       "  background-color: var(--sklearn-color-fitted-level-2);\n",
       "}\n",
       "\n",
       "/* Estimator label */\n",
       "\n",
       "#sk-container-id-3 div.sk-label label {\n",
       "  font-family: monospace;\n",
       "  font-weight: bold;\n",
       "  display: inline-block;\n",
       "  line-height: 1.2em;\n",
       "}\n",
       "\n",
       "#sk-container-id-3 div.sk-label-container {\n",
       "  text-align: center;\n",
       "}\n",
       "\n",
       "/* Estimator-specific */\n",
       "#sk-container-id-3 div.sk-estimator {\n",
       "  font-family: monospace;\n",
       "  border: 1px dotted var(--sklearn-color-border-box);\n",
       "  border-radius: 0.25em;\n",
       "  box-sizing: border-box;\n",
       "  margin-bottom: 0.5em;\n",
       "  /* unfitted */\n",
       "  background-color: var(--sklearn-color-unfitted-level-0);\n",
       "}\n",
       "\n",
       "#sk-container-id-3 div.sk-estimator.fitted {\n",
       "  /* fitted */\n",
       "  background-color: var(--sklearn-color-fitted-level-0);\n",
       "}\n",
       "\n",
       "/* on hover */\n",
       "#sk-container-id-3 div.sk-estimator:hover {\n",
       "  /* unfitted */\n",
       "  background-color: var(--sklearn-color-unfitted-level-2);\n",
       "}\n",
       "\n",
       "#sk-container-id-3 div.sk-estimator.fitted:hover {\n",
       "  /* fitted */\n",
       "  background-color: var(--sklearn-color-fitted-level-2);\n",
       "}\n",
       "\n",
       "/* Specification for estimator info (e.g. \"i\" and \"?\") */\n",
       "\n",
       "/* Common style for \"i\" and \"?\" */\n",
       "\n",
       ".sk-estimator-doc-link,\n",
       "a:link.sk-estimator-doc-link,\n",
       "a:visited.sk-estimator-doc-link {\n",
       "  float: right;\n",
       "  font-size: smaller;\n",
       "  line-height: 1em;\n",
       "  font-family: monospace;\n",
       "  background-color: var(--sklearn-color-background);\n",
       "  border-radius: 1em;\n",
       "  height: 1em;\n",
       "  width: 1em;\n",
       "  text-decoration: none !important;\n",
       "  margin-left: 0.5em;\n",
       "  text-align: center;\n",
       "  /* unfitted */\n",
       "  border: var(--sklearn-color-unfitted-level-1) 1pt solid;\n",
       "  color: var(--sklearn-color-unfitted-level-1);\n",
       "}\n",
       "\n",
       ".sk-estimator-doc-link.fitted,\n",
       "a:link.sk-estimator-doc-link.fitted,\n",
       "a:visited.sk-estimator-doc-link.fitted {\n",
       "  /* fitted */\n",
       "  border: var(--sklearn-color-fitted-level-1) 1pt solid;\n",
       "  color: var(--sklearn-color-fitted-level-1);\n",
       "}\n",
       "\n",
       "/* On hover */\n",
       "div.sk-estimator:hover .sk-estimator-doc-link:hover,\n",
       ".sk-estimator-doc-link:hover,\n",
       "div.sk-label-container:hover .sk-estimator-doc-link:hover,\n",
       ".sk-estimator-doc-link:hover {\n",
       "  /* unfitted */\n",
       "  background-color: var(--sklearn-color-unfitted-level-3);\n",
       "  color: var(--sklearn-color-background);\n",
       "  text-decoration: none;\n",
       "}\n",
       "\n",
       "div.sk-estimator.fitted:hover .sk-estimator-doc-link.fitted:hover,\n",
       ".sk-estimator-doc-link.fitted:hover,\n",
       "div.sk-label-container:hover .sk-estimator-doc-link.fitted:hover,\n",
       ".sk-estimator-doc-link.fitted:hover {\n",
       "  /* fitted */\n",
       "  background-color: var(--sklearn-color-fitted-level-3);\n",
       "  color: var(--sklearn-color-background);\n",
       "  text-decoration: none;\n",
       "}\n",
       "\n",
       "/* Span, style for the box shown on hovering the info icon */\n",
       ".sk-estimator-doc-link span {\n",
       "  display: none;\n",
       "  z-index: 9999;\n",
       "  position: relative;\n",
       "  font-weight: normal;\n",
       "  right: .2ex;\n",
       "  padding: .5ex;\n",
       "  margin: .5ex;\n",
       "  width: min-content;\n",
       "  min-width: 20ex;\n",
       "  max-width: 50ex;\n",
       "  color: var(--sklearn-color-text);\n",
       "  box-shadow: 2pt 2pt 4pt #999;\n",
       "  /* unfitted */\n",
       "  background: var(--sklearn-color-unfitted-level-0);\n",
       "  border: .5pt solid var(--sklearn-color-unfitted-level-3);\n",
       "}\n",
       "\n",
       ".sk-estimator-doc-link.fitted span {\n",
       "  /* fitted */\n",
       "  background: var(--sklearn-color-fitted-level-0);\n",
       "  border: var(--sklearn-color-fitted-level-3);\n",
       "}\n",
       "\n",
       ".sk-estimator-doc-link:hover span {\n",
       "  display: block;\n",
       "}\n",
       "\n",
       "/* \"?\"-specific style due to the `<a>` HTML tag */\n",
       "\n",
       "#sk-container-id-3 a.estimator_doc_link {\n",
       "  float: right;\n",
       "  font-size: 1rem;\n",
       "  line-height: 1em;\n",
       "  font-family: monospace;\n",
       "  background-color: var(--sklearn-color-background);\n",
       "  border-radius: 1rem;\n",
       "  height: 1rem;\n",
       "  width: 1rem;\n",
       "  text-decoration: none;\n",
       "  /* unfitted */\n",
       "  color: var(--sklearn-color-unfitted-level-1);\n",
       "  border: var(--sklearn-color-unfitted-level-1) 1pt solid;\n",
       "}\n",
       "\n",
       "#sk-container-id-3 a.estimator_doc_link.fitted {\n",
       "  /* fitted */\n",
       "  border: var(--sklearn-color-fitted-level-1) 1pt solid;\n",
       "  color: var(--sklearn-color-fitted-level-1);\n",
       "}\n",
       "\n",
       "/* On hover */\n",
       "#sk-container-id-3 a.estimator_doc_link:hover {\n",
       "  /* unfitted */\n",
       "  background-color: var(--sklearn-color-unfitted-level-3);\n",
       "  color: var(--sklearn-color-background);\n",
       "  text-decoration: none;\n",
       "}\n",
       "\n",
       "#sk-container-id-3 a.estimator_doc_link.fitted:hover {\n",
       "  /* fitted */\n",
       "  background-color: var(--sklearn-color-fitted-level-3);\n",
       "}\n",
       "\n",
       ".estimator-table summary {\n",
       "    padding: .5rem;\n",
       "    font-family: monospace;\n",
       "    cursor: pointer;\n",
       "}\n",
       "\n",
       ".estimator-table details[open] {\n",
       "    padding-left: 0.1rem;\n",
       "    padding-right: 0.1rem;\n",
       "    padding-bottom: 0.3rem;\n",
       "}\n",
       "\n",
       ".estimator-table .parameters-table {\n",
       "    margin-left: auto !important;\n",
       "    margin-right: auto !important;\n",
       "}\n",
       "\n",
       ".estimator-table .parameters-table tr:nth-child(odd) {\n",
       "    background-color: #fff;\n",
       "}\n",
       "\n",
       ".estimator-table .parameters-table tr:nth-child(even) {\n",
       "    background-color: #f6f6f6;\n",
       "}\n",
       "\n",
       ".estimator-table .parameters-table tr:hover {\n",
       "    background-color: #e0e0e0;\n",
       "}\n",
       "\n",
       ".estimator-table table td {\n",
       "    border: 1px solid rgba(106, 105, 104, 0.232);\n",
       "}\n",
       "\n",
       ".user-set td {\n",
       "    color:rgb(255, 94, 0);\n",
       "    text-align: left;\n",
       "}\n",
       "\n",
       ".user-set td.value pre {\n",
       "    color:rgb(255, 94, 0) !important;\n",
       "    background-color: transparent !important;\n",
       "}\n",
       "\n",
       ".default td {\n",
       "    color: black;\n",
       "    text-align: left;\n",
       "}\n",
       "\n",
       ".user-set td i,\n",
       ".default td i {\n",
       "    color: black;\n",
       "}\n",
       "\n",
       ".copy-paste-icon {\n",
       "    background-image: url(data:image/svg+xml;base64,PHN2ZyB4bWxucz0iaHR0cDovL3d3dy53My5vcmcvMjAwMC9zdmciIHZpZXdCb3g9IjAgMCA0NDggNTEyIj48IS0tIUZvbnQgQXdlc29tZSBGcmVlIDYuNy4yIGJ5IEBmb250YXdlc29tZSAtIGh0dHBzOi8vZm9udGF3ZXNvbWUuY29tIExpY2Vuc2UgLSBodHRwczovL2ZvbnRhd2Vzb21lLmNvbS9saWNlbnNlL2ZyZWUgQ29weXJpZ2h0IDIwMjUgRm9udGljb25zLCBJbmMuLS0+PHBhdGggZD0iTTIwOCAwTDMzMi4xIDBjMTIuNyAwIDI0LjkgNS4xIDMzLjkgMTQuMWw2Ny45IDY3LjljOSA5IDE0LjEgMjEuMiAxNC4xIDMzLjlMNDQ4IDMzNmMwIDI2LjUtMjEuNSA0OC00OCA0OGwtMTkyIDBjLTI2LjUgMC00OC0yMS41LTQ4LTQ4bDAtMjg4YzAtMjYuNSAyMS41LTQ4IDQ4LTQ4ek00OCAxMjhsODAgMCAwIDY0LTY0IDAgMCAyNTYgMTkyIDAgMC0zMiA2NCAwIDAgNDhjMCAyNi41LTIxLjUgNDgtNDggNDhMNDggNTEyYy0yNi41IDAtNDgtMjEuNS00OC00OEwwIDE3NmMwLTI2LjUgMjEuNS00OCA0OC00OHoiLz48L3N2Zz4=);\n",
       "    background-repeat: no-repeat;\n",
       "    background-size: 14px 14px;\n",
       "    background-position: 0;\n",
       "    display: inline-block;\n",
       "    width: 14px;\n",
       "    height: 14px;\n",
       "    cursor: pointer;\n",
       "}\n",
       "</style><body><div id=\"sk-container-id-3\" class=\"sk-top-container\"><div class=\"sk-text-repr-fallback\"><pre>LinearRegression()</pre><b>In a Jupyter environment, please rerun this cell to show the HTML representation or trust the notebook. <br />On GitHub, the HTML representation is unable to render, please try loading this page with nbviewer.org.</b></div><div class=\"sk-container\" hidden><div class=\"sk-item\"><div class=\"sk-estimator fitted sk-toggleable\"><input class=\"sk-toggleable__control sk-hidden--visually\" id=\"sk-estimator-id-3\" type=\"checkbox\" checked><label for=\"sk-estimator-id-3\" class=\"sk-toggleable__label fitted sk-toggleable__label-arrow\"><div><div>LinearRegression</div></div><div><a class=\"sk-estimator-doc-link fitted\" rel=\"noreferrer\" target=\"_blank\" href=\"https://scikit-learn.org/1.7/modules/generated/sklearn.linear_model.LinearRegression.html\">?<span>Documentation for LinearRegression</span></a><span class=\"sk-estimator-doc-link fitted\">i<span>Fitted</span></span></div></label><div class=\"sk-toggleable__content fitted\" data-param-prefix=\"\">\n",
       "        <div class=\"estimator-table\">\n",
       "            <details>\n",
       "                <summary>Parameters</summary>\n",
       "                <table class=\"parameters-table\">\n",
       "                  <tbody>\n",
       "                    \n",
       "        <tr class=\"default\">\n",
       "            <td><i class=\"copy-paste-icon\"\n",
       "                 onclick=\"copyToClipboard('fit_intercept',\n",
       "                          this.parentElement.nextElementSibling)\"\n",
       "            ></i></td>\n",
       "            <td class=\"param\">fit_intercept&nbsp;</td>\n",
       "            <td class=\"value\">True</td>\n",
       "        </tr>\n",
       "    \n",
       "\n",
       "        <tr class=\"default\">\n",
       "            <td><i class=\"copy-paste-icon\"\n",
       "                 onclick=\"copyToClipboard('copy_X',\n",
       "                          this.parentElement.nextElementSibling)\"\n",
       "            ></i></td>\n",
       "            <td class=\"param\">copy_X&nbsp;</td>\n",
       "            <td class=\"value\">True</td>\n",
       "        </tr>\n",
       "    \n",
       "\n",
       "        <tr class=\"default\">\n",
       "            <td><i class=\"copy-paste-icon\"\n",
       "                 onclick=\"copyToClipboard('tol',\n",
       "                          this.parentElement.nextElementSibling)\"\n",
       "            ></i></td>\n",
       "            <td class=\"param\">tol&nbsp;</td>\n",
       "            <td class=\"value\">1e-06</td>\n",
       "        </tr>\n",
       "    \n",
       "\n",
       "        <tr class=\"default\">\n",
       "            <td><i class=\"copy-paste-icon\"\n",
       "                 onclick=\"copyToClipboard('n_jobs',\n",
       "                          this.parentElement.nextElementSibling)\"\n",
       "            ></i></td>\n",
       "            <td class=\"param\">n_jobs&nbsp;</td>\n",
       "            <td class=\"value\">None</td>\n",
       "        </tr>\n",
       "    \n",
       "\n",
       "        <tr class=\"default\">\n",
       "            <td><i class=\"copy-paste-icon\"\n",
       "                 onclick=\"copyToClipboard('positive',\n",
       "                          this.parentElement.nextElementSibling)\"\n",
       "            ></i></td>\n",
       "            <td class=\"param\">positive&nbsp;</td>\n",
       "            <td class=\"value\">False</td>\n",
       "        </tr>\n",
       "    \n",
       "                  </tbody>\n",
       "                </table>\n",
       "            </details>\n",
       "        </div>\n",
       "    </div></div></div></div></div><script>function copyToClipboard(text, element) {\n",
       "    // Get the parameter prefix from the closest toggleable content\n",
       "    const toggleableContent = element.closest('.sk-toggleable__content');\n",
       "    const paramPrefix = toggleableContent ? toggleableContent.dataset.paramPrefix : '';\n",
       "    const fullParamName = paramPrefix ? `${paramPrefix}${text}` : text;\n",
       "\n",
       "    const originalStyle = element.style;\n",
       "    const computedStyle = window.getComputedStyle(element);\n",
       "    const originalWidth = computedStyle.width;\n",
       "    const originalHTML = element.innerHTML.replace('Copied!', '');\n",
       "\n",
       "    navigator.clipboard.writeText(fullParamName)\n",
       "        .then(() => {\n",
       "            element.style.width = originalWidth;\n",
       "            element.style.color = 'green';\n",
       "            element.innerHTML = \"Copied!\";\n",
       "\n",
       "            setTimeout(() => {\n",
       "                element.innerHTML = originalHTML;\n",
       "                element.style = originalStyle;\n",
       "            }, 2000);\n",
       "        })\n",
       "        .catch(err => {\n",
       "            console.error('Failed to copy:', err);\n",
       "            element.style.color = 'red';\n",
       "            element.innerHTML = \"Failed!\";\n",
       "            setTimeout(() => {\n",
       "                element.innerHTML = originalHTML;\n",
       "                element.style = originalStyle;\n",
       "            }, 2000);\n",
       "        });\n",
       "    return false;\n",
       "}\n",
       "\n",
       "document.querySelectorAll('.fa-regular.fa-copy').forEach(function(element) {\n",
       "    const toggleableContent = element.closest('.sk-toggleable__content');\n",
       "    const paramPrefix = toggleableContent ? toggleableContent.dataset.paramPrefix : '';\n",
       "    const paramName = element.parentElement.nextElementSibling.textContent.trim();\n",
       "    const fullParamName = paramPrefix ? `${paramPrefix}${paramName}` : paramName;\n",
       "\n",
       "    element.setAttribute('title', fullParamName);\n",
       "});\n",
       "</script></body>"
      ],
      "text/plain": [
       "LinearRegression()"
      ]
     },
     "execution_count": 187,
     "metadata": {},
     "output_type": "execute_result"
    }
   ],
   "source": [
    "from sklearn.linear_model import LinearRegression\n",
    "\n",
    "\n",
    "# train a linear regression model\n",
    "model = LinearRegression()\n",
    "model.fit(X_train, y_train)"
   ]
  },
  {
   "cell_type": "markdown",
   "id": "ac2ff45a",
   "metadata": {},
   "source": [
    "### 2.2 Test Models"
   ]
  },
  {
   "cell_type": "code",
   "execution_count": null,
   "id": "4e77b91b",
   "metadata": {},
   "outputs": [
    {
     "name": "stdout",
     "output_type": "stream",
     "text": [
      "Root Mean Squared Error (MSE): 1.38e+15\n"
     ]
    }
   ],
   "source": [
    "from sklearn.metrics import mean_squared_error\n",
    "\n",
    "\n",
    "y_pred = model.predict(X_test)\n",
    "mse = mean_squared_error(y_test, y_pred)\n",
    "print(f\"Root Mean Squared Error (MSE): {np.sqrt(mse):.2e}\")"
   ]
  },
  {
   "cell_type": "code",
   "execution_count": null,
   "id": "6406cf62",
   "metadata": {},
   "outputs": [
    {
     "data": {
      "text/plain": [
       "[<matplotlib.lines.Line2D at 0x21135bc7250>]"
      ]
     },
     "execution_count": 216,
     "metadata": {},
     "output_type": "execute_result"
    },
    {
     "data": {
      "image/png": "[encoded data removed]",
      "text/plain": [
       "<Figure size 640x480 with 1 Axes>"
      ]
     },
     "metadata": {},
     "output_type": "display_data"
    },
    {
     "ename": "",
     "evalue": "",
     "output_type": "error",
     "traceback": [
      "\u001b[1;31mThe Kernel crashed while executing code in the current cell or a previous cell. \n",
      "\u001b[1;31mPlease review the code in the cell(s) to identify a possible cause of the failure. \n",
      "\u001b[1;31mClick <a href='https://aka.ms/vscodeJupyterKernelCrash'>here</a> for more info. \n",
      "\u001b[1;31mView Jupyter <a href='command:jupyter.viewOutput'>log</a> for further details."
     ]
    }
   ],
   "source": [
    "# --- 7. Plotting Results (Actual vs. Predicted) ---\n",
    "from matplotlib import pyplot as plt\n",
    "\n",
    "\n",
    "\n",
    "# Plot training data\n",
    "plt.plot(X_test.Time, y_test, color='blue', alpha=0.5, label='Training Data (y_train)')\n",
    "\n",
    "# Plot testing data\n",
    "plt.plot(X_test.Time, y_pred, color='red', alpha=0.7, label='Testing Data (y_test)')"
   ]
  },
  {
   "cell_type": "markdown",
   "id": "a7b7fe43",
   "metadata": {},
   "source": [
    "### 2.3. Model Visualization"
   ]
  },
  {
   "cell_type": "code",
   "execution_count": null,
   "id": "f6b2848b",
   "metadata": {},
   "outputs": [],
   "source": []
  }
 ],
 "metadata": {
  "kernelspec": {
   "display_name": "MLA",
   "language": "python",
   "name": "python3"
  },
  "language_info": {
   "codemirror_mode": {
    "name": "ipython",
    "version": 3
   },
   "file_extension": ".py",
   "mimetype": "text/x-python",
   "name": "python",
   "nbconvert_exporter": "python",
   "pygments_lexer": "ipython3",
   "version": "3.11.13"
  }
 },
 "nbformat": 4,
 "nbformat_minor": 5
}
